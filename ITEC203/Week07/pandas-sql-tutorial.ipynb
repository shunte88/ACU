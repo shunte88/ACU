{
 "cells": [
  {
   "cell_type": "code",
   "execution_count": null,
   "id": "198b3454",
   "metadata": {},
   "outputs": [],
   "source": [
    "import pandas as pd\n",
    "import pandasql as ps"
   ]
  },
  {
   "cell_type": "code",
   "execution_count": null,
   "id": "3c4b2733",
   "metadata": {},
   "outputs": [],
   "source": [
    "# Load the data from the Google Sheets URL,\n",
    "# which is publicly accessible as a CSV file\n",
    "# The URL is for a Google Sheets document\n",
    "# The URL is for a specific sheet within the document\n",
    "# This may take a while due to the size of the data\n",
    "sheet_url = \"https://docs.google.com/spreadsheets/d/1-IYkJsbKEilqwiyHUx43QvYXtlLvmcyuAEphriv52sM/edit?gid=418081796\"\n",
    "csv_url = sheet_url.replace('/edit?gid=', '/export?format=csv&gid=')\n",
    "pd_acf_fide = pd.read_csv(csv_url)"
   ]
  },
  {
   "cell_type": "code",
   "execution_count": null,
   "id": "3310e70e",
   "metadata": {},
   "outputs": [],
   "source": [
    "# Display the first few rows of the DataFrame\n",
    "print(pd_acf_fide.head())\n",
    "# Display the column names\n",
    "print(pd_acf_fide.columns)\n",
    "# Display the data types of the columns\n",
    "print(pd_acf_fide.dtypes)\n",
    "# Display the number of rows and columns\n",
    "print(pd_acf_fide.shape)\n",
    "# Display the summary statistics of the DataFrame\n",
    "print(pd_acf_fide.describe())"
   ]
  },
  {
   "cell_type": "code",
   "execution_count": null,
   "id": "35344e4f",
   "metadata": {},
   "outputs": [],
   "source": [
    "# select all players from pd_acf_fide where \"fide_id\" is \"12424986\"\n",
    "query = \"SELECT * FROM pd_acf_fide WHERE fide_id = '12424986'\"\n",
    "result = ps.sqldf(query, locals())\n",
    "print(result)"
   ]
  },
  {
   "cell_type": "code",
   "execution_count": null,
   "id": "2bdb1f9d",
   "metadata": {},
   "outputs": [],
   "source": [
    "# Select all players where \"SURNAME\" contains \"nguyen\"\n",
    "query = \"SELECT * FROM pd_acf_fide WHERE SURNAME LIKE '%nguyen%'\"\n",
    "result = ps.sqldf(query, locals())\n",
    "print(result)"
   ]
  },
  {
   "cell_type": "code",
   "execution_count": null,
   "id": "c2b8dbe7",
   "metadata": {},
   "outputs": [],
   "source": [
    "# Select all players where \"ACF_CLASSICAL_RTG\" is greater or equal to 2000\n",
    "query = \"SELECT * FROM pd_acf_fide WHERE ACF_CLASSICAL_RTG >= 2000\"\n",
    "result = ps.sqldf(query, locals())\n",
    "print(result)"
   ]
  },
  {
   "cell_type": "code",
   "execution_count": null,
   "id": "7849dd4a",
   "metadata": {},
   "outputs": [],
   "source": [
    "# Select top 10 players from \"pd_acf_fide\" where \"FEDERATION\" is \"NSW\" sorted by \"ACF_CLASSICAL_RTG\"\n",
    "query = \"\"\"\n",
    "SELECT * \n",
    "FROM pd_acf_fide \n",
    "WHERE FEDERATION = 'NSW' \n",
    "ORDER BY ACF_CLASSICAL_RTG DESC \n",
    "LIMIT 10\n",
    "\"\"\"\n",
    "top_10_players = ps.sqldf(query, locals())\n",
    "print(top_10_players)"
   ]
  },
  {
   "cell_type": "code",
   "execution_count": null,
   "id": "c5b6e237",
   "metadata": {},
   "outputs": [],
   "source": [
    "# Calculate the average of \"ACF_CLASSICAL_RTG\" for the top 10 players\n",
    "avg_rating = top_10_players['ACF_CLASSICAL_RTG'].mean()\n",
    "print(f\"Average ACF_CLASSICAL_RTG of top 10 players: {avg_rating}\")"
   ]
  },
  {
   "cell_type": "code",
   "execution_count": null,
   "id": "291d2904",
   "metadata": {},
   "outputs": [],
   "source": [
    "# Select top 30 players from \"pd_acf_fide\" where \"FEDERATION\" is \"NSW\" sorted by \"ACF_QUICK_RTG\"\n",
    "query = \"\"\"\n",
    "SELECT * \n",
    "FROM pd_acf_fide \n",
    "WHERE FEDERATION = 'NSW' \n",
    "ORDER BY ACF_QUICK_RTG DESC \n",
    "LIMIT 30\n",
    "\"\"\"\n",
    "top_30_players = ps.sqldf(query, locals())\n",
    "print(top_30_players)"
   ]
  },
  {
   "cell_type": "code",
   "execution_count": null,
   "id": "4fcf5724",
   "metadata": {},
   "outputs": [],
   "source": [
    "# Calculate the average of \"ACF_QUICK_RTG\" for the top 30 players\n",
    "avg_quick_rating = top_30_players['ACF_QUICK_RTG'].mean()\n",
    "print(f\"Average ACF_QUICK_RTG of top 30 players: {avg_quick_rating}\")"
   ]
  },
  {
   "cell_type": "code",
   "execution_count": null,
   "id": "0c42f203",
   "metadata": {},
   "outputs": [],
   "source": [
    "# Select top 30 players where \"FEDERATION\" and \"CLUB\" is \"St George\" \n",
    "# and \"ConfidenceLevel\" is \"Reliable\" or \"Very Unreliable\", sorted by \"ACF_CLASSICAL_RTG\"\n",
    "query = \"\"\"\n",
    "SELECT * \n",
    "FROM pd_acf_fide \n",
    "WHERE FEDERATION = 'St George' \n",
    "    AND CLUB = 'St George' \n",
    "    AND (ConfidenceLevel = 'Reliable' OR ConfidenceLevel = 'Very Unreliable') \n",
    "ORDER BY ACF_CLASSICAL_RTG DESC \n",
    "LIMIT 30\n",
    "\"\"\"\n",
    "top_30_st_george_players = ps.sqldf(query, locals())\n",
    "print(top_30_st_george_players)"
   ]
  },
  {
   "cell_type": "code",
   "execution_count": null,
   "id": "a6c03f5d",
   "metadata": {},
   "outputs": [],
   "source": [
    "# Select all players from New Zealand where \"FEDERATION\" is \"OS\" and \"CLUB\" is \"New Zealand\", sorted by \"ACF_CLASSICAL_RTG\"\n",
    "query = \"\"\"\n",
    "SELECT * \n",
    "FROM pd_acf_fide \n",
    "WHERE FEDERATION = 'OS' \n",
    "    AND CLUB = 'New Zealand' \n",
    "ORDER BY ACF_CLASSICAL_RTG DESC\n",
    "\"\"\"\n",
    "nz_players = ps.sqldf(query, locals())\n",
    "print(nz_players)"
   ]
  },
  {
   "cell_type": "code",
   "execution_count": null,
   "id": "4f2ec334",
   "metadata": {},
   "outputs": [],
   "source": [
    "# Count the number of players\n",
    "nz_player_count = len(nz_players)\n",
    "print(f\"Number of players from New Zealand: {nz_player_count}\")"
   ]
  },
  {
   "cell_type": "code",
   "execution_count": null,
   "id": "4def1dc1",
   "metadata": {},
   "outputs": [],
   "source": [
    "# Count the number of male and female players\n",
    "query = \"\"\"\n",
    "SELECT GENDER, COUNT(*) as count\n",
    "FROM pd_acf_fide\n",
    "WHERE GENDER IN ('Male', 'Female')\n",
    "GROUP BY GENDER\n",
    "\"\"\"\n",
    "gender_count = ps.sqldf(query, locals())\n",
    "print(gender_count)"
   ]
  },
  {
   "cell_type": "code",
   "execution_count": null,
   "id": "60fe179a",
   "metadata": {},
   "outputs": [],
   "source": [
    "# Calculate the proportion of Male/Female players\n",
    "total_players = gender_count['count'].sum()\n",
    "gender_count['proportion'] = gender_count['count'] / total_players\n",
    "print(gender_count)"
   ]
  },
  {
   "cell_type": "code",
   "execution_count": null,
   "id": "0bf606dc",
   "metadata": {},
   "outputs": [],
   "source": [
    "# Select all players who have a \"FIDE_TITLE\" (not blank) and \"FEDERATION\" is not \"OS\", sorted by \"ACF_CLASSICAL_RTG\" and print the first 100 players\n",
    "query = \"\"\"\n",
    "SELECT * \n",
    "FROM pd_acf_fide \n",
    "WHERE FIDE_TITLE IS NOT NULL AND FIDE_TITLE != '' AND FEDERATION != 'OS'\n",
    "ORDER BY ACF_CLASSICAL_RTG DESC\n",
    "LIMIT 100\n",
    "\"\"\"\n",
    "titled_players = ps.sqldf(query, locals())\n",
    "print(titled_players)"
   ]
  }
 ],
 "metadata": {
  "jupytext": {
   "cell_metadata_filter": "-all",
   "main_language": "python",
   "notebook_metadata_filter": "-all"
  }
 },
 "nbformat": 4,
 "nbformat_minor": 5
}
