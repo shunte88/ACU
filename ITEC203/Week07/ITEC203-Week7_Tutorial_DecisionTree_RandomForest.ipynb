{
  "cells": [
    {
      "cell_type": "markdown",
      "source": [
        "# A Brief Introduction on Neural Network"
      ],
      "metadata": {
        "id": "PxMdt2lep7lE"
      }
    },
    {
      "cell_type": "markdown",
      "source": [
        "# Decision Tree"
      ],
      "metadata": {
        "id": "QnGsVOi8qAJJ"
      }
    },
    {
      "cell_type": "markdown",
      "source": [
        "## Decision Tree - The Concept"
      ],
      "metadata": {
        "id": "cY9JgGsvqlO3"
      }
    },
    {
      "cell_type": "markdown",
      "source": [
        "# Random Forest"
      ],
      "metadata": {
        "id": "Wv_5_RMVqC0A"
      }
    },
    {
      "cell_type": "markdown",
      "metadata": {
        "id": "oT91OwunjbH7"
      },
      "source": [
        "# Decision Tree Classifier\n",
        "\n",
        "Three classes: Iris Setosa (class 0), Iris Versicolor (class 1), Iris Virginica (class 2)."
      ]
    },
    {
      "cell_type": "markdown",
      "metadata": {
        "id": "RBPUXkQnjbH8"
      },
      "source": [
        "## Training"
      ]
    },
    {
      "cell_type": "code",
      "execution_count": null,
      "metadata": {
        "id": "mg2_I1rNjbH8",
        "outputId": "1278e778-f2ec-498b-cb0e-a04c37e81fbb"
      },
      "outputs": [
        {
          "data": {
            "text/plain": [
              "DecisionTreeClassifier(max_depth=2, random_state=42)"
            ]
          },
          "execution_count": 1,
          "metadata": {},
          "output_type": "execute_result"
        }
      ],
      "source": [
        "from sklearn.datasets import load_iris\n",
        "from sklearn.tree import DecisionTreeClassifier\n",
        "\n",
        "iris = load_iris()\n",
        "X = iris.data[:, 2:] # Two features: petal length and width\n",
        "y = iris.target\n",
        "\n",
        "tree_clf = DecisionTreeClassifier(max_depth=2, random_state=42)\n",
        "tree_clf.fit(X, y)"
      ]
    },
    {
      "cell_type": "markdown",
      "metadata": {
        "id": "hxwQ97K1jbH9"
      },
      "source": [
        "## Predicting classes and class probabilities"
      ]
    },
    {
      "cell_type": "code",
      "execution_count": null,
      "metadata": {
        "id": "2PU3eRTjjbH9",
        "outputId": "618bef09-818d-450c-de54-1f5a8372d33a"
      },
      "outputs": [
        {
          "data": {
            "text/plain": [
              "array([[0.        , 0.90740741, 0.09259259]])"
            ]
          },
          "execution_count": 2,
          "metadata": {},
          "output_type": "execute_result"
        }
      ],
      "source": [
        "# test flower: petal length = 5 cm, petal width = 1.5 cm\n",
        "tree_clf.predict_proba([[5, 1.5]])"
      ]
    },
    {
      "cell_type": "code",
      "execution_count": null,
      "metadata": {
        "id": "fUb7LAuzjbH9",
        "outputId": "b18b920b-4a43-4a1d-8365-63ff88b98677"
      },
      "outputs": [
        {
          "data": {
            "text/plain": [
              "array([1])"
            ]
          },
          "execution_count": 3,
          "metadata": {},
          "output_type": "execute_result"
        }
      ],
      "source": [
        "tree_clf.predict([[5, 1.5]]) # predict its class"
      ]
    },
    {
      "cell_type": "markdown",
      "metadata": {
        "id": "iU6aBFF_jbH9"
      },
      "source": [
        "The decision tree predits that it is Iris Versicolor (class 1)"
      ]
    },
    {
      "cell_type": "markdown",
      "metadata": {
        "id": "YwS7PwMLjbH9"
      },
      "source": [
        "  "
      ]
    },
    {
      "cell_type": "markdown",
      "metadata": {
        "id": "XKXcHhq6jbH9"
      },
      "source": [
        "# Random Forest"
      ]
    },
    {
      "cell_type": "code",
      "execution_count": null,
      "metadata": {
        "id": "CAF2dXJcjbH9"
      },
      "outputs": [],
      "source": [
        "from sklearn.datasets import load_iris\n",
        "from sklearn.ensemble import RandomForestClassifier\n",
        "\n",
        "iris = load_iris()\n",
        "X = iris.data\n",
        "y = iris.target"
      ]
    },
    {
      "cell_type": "code",
      "execution_count": null,
      "metadata": {
        "id": "tCbBFSGDjbH9"
      },
      "outputs": [],
      "source": [
        "# Split dataset into training set and test set\n",
        "from sklearn.model_selection import train_test_split\n",
        "X_train, X_test, y_train, y_test = train_test_split(X, y, test_size=0.3) # 70% training and 30% test"
      ]
    },
    {
      "cell_type": "code",
      "execution_count": null,
      "metadata": {
        "id": "8grqBN_qjbH9"
      },
      "outputs": [],
      "source": [
        "#Create a Classifier\n",
        "clf=RandomForestClassifier(n_estimators=100)\n",
        "\n",
        "#Train the model using the training sets y_pred=clf.predict(X_test)\n",
        "clf.fit(X_train,y_train)\n",
        "\n",
        "y_pred=clf.predict(X_test)"
      ]
    },
    {
      "cell_type": "markdown",
      "metadata": {
        "id": "kEsTUjP7jbH9"
      },
      "source": [
        "## Model Evaluation"
      ]
    },
    {
      "cell_type": "code",
      "execution_count": null,
      "metadata": {
        "id": "eGLjiPUWjbH-",
        "outputId": "de80d951-c17e-4c5b-fed1-ce17ce211196"
      },
      "outputs": [
        {
          "name": "stdout",
          "output_type": "stream",
          "text": [
            "Accuracy: 0.9777777777777777\n"
          ]
        }
      ],
      "source": [
        "#Import scikit-learn metrics module for accuracy calculation\n",
        "from sklearn import metrics\n",
        "# Model Accuracy, how often is the classifier correct?\n",
        "print(\"Accuracy:\",metrics.accuracy_score(y_test, y_pred))"
      ]
    },
    {
      "cell_type": "code",
      "execution_count": null,
      "metadata": {
        "id": "vbuG-qMvjbH-"
      },
      "outputs": [],
      "source": [
        "from sklearn.metrics import classification_report"
      ]
    },
    {
      "cell_type": "code",
      "execution_count": null,
      "metadata": {
        "id": "tyjUawdOjbH-",
        "outputId": "b98f15c6-dca0-4573-df6c-2b17776cfe48"
      },
      "outputs": [
        {
          "name": "stdout",
          "output_type": "stream",
          "text": [
            "              precision    recall  f1-score   support\n",
            "\n",
            "           0       1.00      1.00      1.00        20\n",
            "           1       0.91      1.00      0.95        10\n",
            "           2       1.00      0.93      0.97        15\n",
            "\n",
            "    accuracy                           0.98        45\n",
            "   macro avg       0.97      0.98      0.97        45\n",
            "weighted avg       0.98      0.98      0.98        45\n",
            "\n"
          ]
        }
      ],
      "source": [
        "print(classification_report(y_test, y_pred))"
      ]
    },
    {
      "cell_type": "code",
      "execution_count": null,
      "metadata": {
        "id": "beBFkfMfjbH-"
      },
      "outputs": [],
      "source": []
    },
    {
      "cell_type": "markdown",
      "source": [
        "# Futher Readings\n",
        "\n",
        "- Decision Trees & Random Forest - Visually Explained (9min) https://www.youtube.com/watch?v=LLBGiAAZqAM&ab_channel=VisuallyExplained\n",
        "- Neural Network Explained (5min) https://www.youtube.com/watch?v=jmmW0F0biz0&ab_channel=IBMTechnology\n",
        "- Compare the performance of various ML models (2h reading & running) https://www.kaggle.com/code/vuhunghn/credit-rating-forecasting/\n",
        "- https://en.wikipedia.org/wiki/Decision_tree\n",
        "- https://en.wikipedia.org/wiki/Random_forest\n",
        "- https://en.wikipedia.org/wiki/Neural_network_(machine_learning)"
      ],
      "metadata": {
        "id": "YoxoXGnijcq5"
      }
    }
  ],
  "metadata": {
    "kernelspec": {
      "display_name": "Python 3 (ipykernel)",
      "language": "python",
      "name": "python3"
    },
    "language_info": {
      "codemirror_mode": {
        "name": "ipython",
        "version": 3
      },
      "file_extension": ".py",
      "mimetype": "text/x-python",
      "name": "python",
      "nbconvert_exporter": "python",
      "pygments_lexer": "ipython3",
      "version": "3.9.7"
    },
    "colab": {
      "provenance": [],
      "toc_visible": true
    }
  },
  "nbformat": 4,
  "nbformat_minor": 0
}