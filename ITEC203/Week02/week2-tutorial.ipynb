{
 "cells": [
  {
   "cell_type": "markdown",
   "metadata": {},
   "source": [
    "## Pandas\n",
    "\n",
    "It provides high-performance, easy-to-use data structures and data analysis tools. \n",
    "\n",
    "Pandas can be used to organized structured data as a dataframe.\n",
    "\n",
    "Read NSW COVID-19 cases data.\n",
    "Can you please try to download this dataset from the website (https://data.nsw.gov.au/nsw-covid-19-data/cases)? Then we can analysis the lattest data."
   ]
  },
  {
   "cell_type": "markdown",
   "metadata": {},
   "source": [
    "Dataset introduction: COVID-19 cases by notification date and postcode, local health district, and local government area. The dataset is updated daily, except on weekends.\n",
    "\n",
    "The data is for confirmed COVID-19 cases only based on location of usual residence."
   ]
  },
  {
   "cell_type": "code",
   "execution_count": 1,
   "metadata": {},
   "outputs": [],
   "source": [
    "import pandas as pd"
   ]
  },
  {
   "cell_type": "markdown",
   "metadata": {},
   "source": [
    "Import external dataset as a dataframe"
   ]
  },
  {
   "cell_type": "code",
   "execution_count": 2,
   "metadata": {},
   "outputs": [],
   "source": [
    "pd_old = pd.read_csv('/Users/zijingchen/Dropbox/ACU/ml_codes/lab1-prep/confirmed_cases_table1_location.csv')\n",
    "pd_new = pd.read_csv('/Users/zijingchen/Dropbox/ACU/ml_codes/lab1-prep/confirmed_cases_table1_location_0802.csv')"
   ]
  },
  {
   "cell_type": "code",
   "execution_count": 3,
   "metadata": {},
   "outputs": [
    {
     "data": {
      "text/html": [
       "<div>\n",
       "<style scoped>\n",
       "    .dataframe tbody tr th:only-of-type {\n",
       "        vertical-align: middle;\n",
       "    }\n",
       "\n",
       "    .dataframe tbody tr th {\n",
       "        vertical-align: top;\n",
       "    }\n",
       "\n",
       "    .dataframe thead th {\n",
       "        text-align: right;\n",
       "    }\n",
       "</style>\n",
       "<table border=\"1\" class=\"dataframe\">\n",
       "  <thead>\n",
       "    <tr style=\"text-align: right;\">\n",
       "      <th></th>\n",
       "      <th>notification_date</th>\n",
       "      <th>postcode</th>\n",
       "      <th>lhd_2010_code</th>\n",
       "      <th>lhd_2010_name</th>\n",
       "      <th>lga_code19</th>\n",
       "      <th>lga_name19</th>\n",
       "    </tr>\n",
       "  </thead>\n",
       "  <tbody>\n",
       "    <tr>\n",
       "      <th>6357</th>\n",
       "      <td>2021-07-13</td>\n",
       "      <td>2196</td>\n",
       "      <td>X700</td>\n",
       "      <td>Sydney</td>\n",
       "      <td>11570.0</td>\n",
       "      <td>Canterbury-Bankstown (A)</td>\n",
       "    </tr>\n",
       "    <tr>\n",
       "      <th>6358</th>\n",
       "      <td>2021-07-13</td>\n",
       "      <td>2198</td>\n",
       "      <td>X710</td>\n",
       "      <td>South Western Sydney</td>\n",
       "      <td>11570.0</td>\n",
       "      <td>Canterbury-Bankstown (A)</td>\n",
       "    </tr>\n",
       "    <tr>\n",
       "      <th>6359</th>\n",
       "      <td>2021-07-13</td>\n",
       "      <td>2176</td>\n",
       "      <td>X710</td>\n",
       "      <td>South Western Sydney</td>\n",
       "      <td>12850.0</td>\n",
       "      <td>Fairfield (C)</td>\n",
       "    </tr>\n",
       "    <tr>\n",
       "      <th>6360</th>\n",
       "      <td>2021-07-13</td>\n",
       "      <td>2165</td>\n",
       "      <td>X710</td>\n",
       "      <td>South Western Sydney</td>\n",
       "      <td>12850.0</td>\n",
       "      <td>Fairfield (C)</td>\n",
       "    </tr>\n",
       "    <tr>\n",
       "      <th>6361</th>\n",
       "      <td>2021-07-13</td>\n",
       "      <td>NaN</td>\n",
       "      <td>NaN</td>\n",
       "      <td>NaN</td>\n",
       "      <td>NaN</td>\n",
       "      <td>NaN</td>\n",
       "    </tr>\n",
       "  </tbody>\n",
       "</table>\n",
       "</div>"
      ],
      "text/plain": [
       "     notification_date postcode lhd_2010_code         lhd_2010_name  \\\n",
       "6357        2021-07-13     2196          X700                Sydney   \n",
       "6358        2021-07-13     2198          X710  South Western Sydney   \n",
       "6359        2021-07-13     2176          X710  South Western Sydney   \n",
       "6360        2021-07-13     2165          X710  South Western Sydney   \n",
       "6361        2021-07-13      NaN           NaN                   NaN   \n",
       "\n",
       "      lga_code19                lga_name19  \n",
       "6357     11570.0  Canterbury-Bankstown (A)  \n",
       "6358     11570.0  Canterbury-Bankstown (A)  \n",
       "6359     12850.0             Fairfield (C)  \n",
       "6360     12850.0             Fairfield (C)  \n",
       "6361         NaN                       NaN  "
      ]
     },
     "execution_count": 3,
     "metadata": {},
     "output_type": "execute_result"
    }
   ],
   "source": [
    "pd_old.tail(5)"
   ]
  },
  {
   "cell_type": "code",
   "execution_count": 4,
   "metadata": {},
   "outputs": [
    {
     "data": {
      "text/html": [
       "<div>\n",
       "<style scoped>\n",
       "    .dataframe tbody tr th:only-of-type {\n",
       "        vertical-align: middle;\n",
       "    }\n",
       "\n",
       "    .dataframe tbody tr th {\n",
       "        vertical-align: top;\n",
       "    }\n",
       "\n",
       "    .dataframe thead th {\n",
       "        text-align: right;\n",
       "    }\n",
       "</style>\n",
       "<table border=\"1\" class=\"dataframe\">\n",
       "  <thead>\n",
       "    <tr style=\"text-align: right;\">\n",
       "      <th></th>\n",
       "      <th>notification_date</th>\n",
       "      <th>postcode</th>\n",
       "      <th>lhd_2010_code</th>\n",
       "      <th>lhd_2010_name</th>\n",
       "      <th>lga_code19</th>\n",
       "      <th>lga_name19</th>\n",
       "    </tr>\n",
       "  </thead>\n",
       "  <tbody>\n",
       "    <tr>\n",
       "      <th>9166</th>\n",
       "      <td>2021-08-01</td>\n",
       "      <td>2176</td>\n",
       "      <td>X710</td>\n",
       "      <td>South Western Sydney</td>\n",
       "      <td>12850.0</td>\n",
       "      <td>Fairfield (C)</td>\n",
       "    </tr>\n",
       "    <tr>\n",
       "      <th>9167</th>\n",
       "      <td>2021-08-01</td>\n",
       "      <td>2176</td>\n",
       "      <td>X710</td>\n",
       "      <td>South Western Sydney</td>\n",
       "      <td>12850.0</td>\n",
       "      <td>Fairfield (C)</td>\n",
       "    </tr>\n",
       "    <tr>\n",
       "      <th>9168</th>\n",
       "      <td>2021-08-01</td>\n",
       "      <td>2010</td>\n",
       "      <td>X720</td>\n",
       "      <td>South Eastern Sydney</td>\n",
       "      <td>17200.0</td>\n",
       "      <td>Sydney (C)</td>\n",
       "    </tr>\n",
       "    <tr>\n",
       "      <th>9169</th>\n",
       "      <td>2021-08-01</td>\n",
       "      <td>2067</td>\n",
       "      <td>X760</td>\n",
       "      <td>Northern Sydney</td>\n",
       "      <td>18250.0</td>\n",
       "      <td>Willoughby (C)</td>\n",
       "    </tr>\n",
       "    <tr>\n",
       "      <th>9170</th>\n",
       "      <td>2021-08-01</td>\n",
       "      <td>2200</td>\n",
       "      <td>X710</td>\n",
       "      <td>South Western Sydney</td>\n",
       "      <td>11570.0</td>\n",
       "      <td>Canterbury-Bankstown (A)</td>\n",
       "    </tr>\n",
       "  </tbody>\n",
       "</table>\n",
       "</div>"
      ],
      "text/plain": [
       "     notification_date postcode lhd_2010_code         lhd_2010_name  \\\n",
       "9166        2021-08-01     2176          X710  South Western Sydney   \n",
       "9167        2021-08-01     2176          X710  South Western Sydney   \n",
       "9168        2021-08-01     2010          X720  South Eastern Sydney   \n",
       "9169        2021-08-01     2067          X760       Northern Sydney   \n",
       "9170        2021-08-01     2200          X710  South Western Sydney   \n",
       "\n",
       "      lga_code19                lga_name19  \n",
       "9166     12850.0             Fairfield (C)  \n",
       "9167     12850.0             Fairfield (C)  \n",
       "9168     17200.0                Sydney (C)  \n",
       "9169     18250.0            Willoughby (C)  \n",
       "9170     11570.0  Canterbury-Bankstown (A)  "
      ]
     },
     "execution_count": 4,
     "metadata": {},
     "output_type": "execute_result"
    }
   ],
   "source": [
    "pd_new.tail(5)"
   ]
  },
  {
   "cell_type": "markdown",
   "metadata": {},
   "source": [
    "According to above, how many cases may have increased durning these days?"
   ]
  },
  {
   "cell_type": "code",
   "execution_count": 5,
   "metadata": {},
   "outputs": [
    {
     "data": {
      "text/html": [
       "<div>\n",
       "<style scoped>\n",
       "    .dataframe tbody tr th:only-of-type {\n",
       "        vertical-align: middle;\n",
       "    }\n",
       "\n",
       "    .dataframe tbody tr th {\n",
       "        vertical-align: top;\n",
       "    }\n",
       "\n",
       "    .dataframe thead th {\n",
       "        text-align: right;\n",
       "    }\n",
       "</style>\n",
       "<table border=\"1\" class=\"dataframe\">\n",
       "  <thead>\n",
       "    <tr style=\"text-align: right;\">\n",
       "      <th></th>\n",
       "      <th>notification_date</th>\n",
       "      <th>postcode</th>\n",
       "      <th>lhd_2010_code</th>\n",
       "      <th>lhd_2010_name</th>\n",
       "      <th>lga_code19</th>\n",
       "      <th>lga_name19</th>\n",
       "    </tr>\n",
       "  </thead>\n",
       "  <tbody>\n",
       "    <tr>\n",
       "      <th>6357</th>\n",
       "      <td>2021-07-13</td>\n",
       "      <td>2196</td>\n",
       "      <td>X700</td>\n",
       "      <td>Sydney</td>\n",
       "      <td>11570.0</td>\n",
       "      <td>Canterbury-Bankstown (A)</td>\n",
       "    </tr>\n",
       "    <tr>\n",
       "      <th>6358</th>\n",
       "      <td>2021-07-13</td>\n",
       "      <td>2198</td>\n",
       "      <td>X710</td>\n",
       "      <td>South Western Sydney</td>\n",
       "      <td>11570.0</td>\n",
       "      <td>Canterbury-Bankstown (A)</td>\n",
       "    </tr>\n",
       "    <tr>\n",
       "      <th>6359</th>\n",
       "      <td>2021-07-13</td>\n",
       "      <td>2176</td>\n",
       "      <td>X710</td>\n",
       "      <td>South Western Sydney</td>\n",
       "      <td>12850.0</td>\n",
       "      <td>Fairfield (C)</td>\n",
       "    </tr>\n",
       "    <tr>\n",
       "      <th>6360</th>\n",
       "      <td>2021-07-13</td>\n",
       "      <td>2165</td>\n",
       "      <td>X710</td>\n",
       "      <td>South Western Sydney</td>\n",
       "      <td>12850.0</td>\n",
       "      <td>Fairfield (C)</td>\n",
       "    </tr>\n",
       "    <tr>\n",
       "      <th>6361</th>\n",
       "      <td>2021-07-13</td>\n",
       "      <td>NaN</td>\n",
       "      <td>NaN</td>\n",
       "      <td>NaN</td>\n",
       "      <td>NaN</td>\n",
       "      <td>NaN</td>\n",
       "    </tr>\n",
       "  </tbody>\n",
       "</table>\n",
       "</div>"
      ],
      "text/plain": [
       "     notification_date postcode lhd_2010_code         lhd_2010_name  \\\n",
       "6357        2021-07-13     2196          X700                Sydney   \n",
       "6358        2021-07-13     2198          X710  South Western Sydney   \n",
       "6359        2021-07-13     2176          X710  South Western Sydney   \n",
       "6360        2021-07-13     2165          X710  South Western Sydney   \n",
       "6361        2021-07-13      NaN           NaN                   NaN   \n",
       "\n",
       "      lga_code19                lga_name19  \n",
       "6357     11570.0  Canterbury-Bankstown (A)  \n",
       "6358     11570.0  Canterbury-Bankstown (A)  \n",
       "6359     12850.0             Fairfield (C)  \n",
       "6360     12850.0             Fairfield (C)  \n",
       "6361         NaN                       NaN  "
      ]
     },
     "execution_count": 5,
     "metadata": {},
     "output_type": "execute_result"
    }
   ],
   "source": [
    "pd_old[6357:6362]"
   ]
  },
  {
   "cell_type": "code",
   "execution_count": 6,
   "metadata": {},
   "outputs": [
    {
     "data": {
      "text/html": [
       "<div>\n",
       "<style scoped>\n",
       "    .dataframe tbody tr th:only-of-type {\n",
       "        vertical-align: middle;\n",
       "    }\n",
       "\n",
       "    .dataframe tbody tr th {\n",
       "        vertical-align: top;\n",
       "    }\n",
       "\n",
       "    .dataframe thead th {\n",
       "        text-align: right;\n",
       "    }\n",
       "</style>\n",
       "<table border=\"1\" class=\"dataframe\">\n",
       "  <thead>\n",
       "    <tr style=\"text-align: right;\">\n",
       "      <th></th>\n",
       "      <th>notification_date</th>\n",
       "      <th>postcode</th>\n",
       "      <th>lhd_2010_code</th>\n",
       "      <th>lhd_2010_name</th>\n",
       "      <th>lga_code19</th>\n",
       "      <th>lga_name19</th>\n",
       "    </tr>\n",
       "  </thead>\n",
       "  <tbody>\n",
       "    <tr>\n",
       "      <th>6357</th>\n",
       "      <td>2021-07-13</td>\n",
       "      <td>2165</td>\n",
       "      <td>X710</td>\n",
       "      <td>South Western Sydney</td>\n",
       "      <td>12850.0</td>\n",
       "      <td>Fairfield (C)</td>\n",
       "    </tr>\n",
       "    <tr>\n",
       "      <th>6358</th>\n",
       "      <td>2021-07-13</td>\n",
       "      <td>2176</td>\n",
       "      <td>X710</td>\n",
       "      <td>South Western Sydney</td>\n",
       "      <td>12850.0</td>\n",
       "      <td>Fairfield (C)</td>\n",
       "    </tr>\n",
       "    <tr>\n",
       "      <th>6359</th>\n",
       "      <td>2021-07-13</td>\n",
       "      <td>2224</td>\n",
       "      <td>X720</td>\n",
       "      <td>South Eastern Sydney</td>\n",
       "      <td>17150.0</td>\n",
       "      <td>Sutherland Shire (A)</td>\n",
       "    </tr>\n",
       "    <tr>\n",
       "      <th>6360</th>\n",
       "      <td>2021-07-13</td>\n",
       "      <td>2138</td>\n",
       "      <td>X700</td>\n",
       "      <td>Sydney</td>\n",
       "      <td>11520.0</td>\n",
       "      <td>Canada Bay (A)</td>\n",
       "    </tr>\n",
       "    <tr>\n",
       "      <th>6361</th>\n",
       "      <td>2021-07-13</td>\n",
       "      <td>2200</td>\n",
       "      <td>X710</td>\n",
       "      <td>South Western Sydney</td>\n",
       "      <td>11570.0</td>\n",
       "      <td>Canterbury-Bankstown (A)</td>\n",
       "    </tr>\n",
       "  </tbody>\n",
       "</table>\n",
       "</div>"
      ],
      "text/plain": [
       "     notification_date postcode lhd_2010_code         lhd_2010_name  \\\n",
       "6357        2021-07-13     2165          X710  South Western Sydney   \n",
       "6358        2021-07-13     2176          X710  South Western Sydney   \n",
       "6359        2021-07-13     2224          X720  South Eastern Sydney   \n",
       "6360        2021-07-13     2138          X700                Sydney   \n",
       "6361        2021-07-13     2200          X710  South Western Sydney   \n",
       "\n",
       "      lga_code19                lga_name19  \n",
       "6357     12850.0             Fairfield (C)  \n",
       "6358     12850.0             Fairfield (C)  \n",
       "6359     17150.0      Sutherland Shire (A)  \n",
       "6360     11520.0            Canada Bay (A)  \n",
       "6361     11570.0  Canterbury-Bankstown (A)  "
      ]
     },
     "execution_count": 6,
     "metadata": {},
     "output_type": "execute_result"
    }
   ],
   "source": [
    "pd_new[6357:6362]"
   ]
  },
  {
   "cell_type": "markdown",
   "metadata": {},
   "source": [
    "Pandas can also be used on series"
   ]
  },
  {
   "cell_type": "code",
   "execution_count": 7,
   "metadata": {},
   "outputs": [
    {
     "data": {
      "text/plain": [
       "0    10\n",
       "1    20\n",
       "2    50\n",
       "3    99\n",
       "dtype: int64"
      ]
     },
     "execution_count": 7,
     "metadata": {},
     "output_type": "execute_result"
    }
   ],
   "source": [
    "obj = pd.Series([10, 20, 50, 99])\n",
    "obj"
   ]
  },
  {
   "cell_type": "code",
   "execution_count": 8,
   "metadata": {},
   "outputs": [
    {
     "data": {
      "text/plain": [
       "array([10, 20, 50, 99])"
      ]
     },
     "execution_count": 8,
     "metadata": {},
     "output_type": "execute_result"
    }
   ],
   "source": [
    "obj.values # extract the values"
   ]
  },
  {
   "cell_type": "code",
   "execution_count": 38,
   "metadata": {},
   "outputs": [
    {
     "data": {
      "text/plain": [
       "d    4\n",
       "b    7\n",
       "a   -5\n",
       "c    3\n",
       "dtype: int64"
      ]
     },
     "execution_count": 38,
     "metadata": {},
     "output_type": "execute_result"
    }
   ],
   "source": [
    "obj2 = pd.Series([4, 7, -5, 3], index=['d', 'b', 'a', 'c'])\n",
    "obj2"
   ]
  },
  {
   "cell_type": "code",
   "execution_count": 39,
   "metadata": {},
   "outputs": [
    {
     "data": {
      "text/plain": [
       "b    7\n",
       "a   -5\n",
       "dtype: int64"
      ]
     },
     "execution_count": 39,
     "metadata": {},
     "output_type": "execute_result"
    }
   ],
   "source": [
    "obj2[['b','a']] # use labels in the index when selecting values"
   ]
  },
  {
   "cell_type": "markdown",
   "metadata": {},
   "source": [
    "Resources: 10 minutes to Pandas\n",
    "    \n",
    " https://pandas.pydata.org/pandas-docs/stable/user_guide/10min.html"
   ]
  },
  {
   "cell_type": "markdown",
   "metadata": {},
   "source": [
    "Task1: Download the latest covid dataset from NSW health website. Comapre the old dataset with the new one.\n",
    "\n",
    "Task2: Practice the code in 10 minutes to Pandas.\n",
    "\n",
    "(10-15 mins)"
   ]
  },
  {
   "cell_type": "markdown",
   "metadata": {},
   "source": [
    "## Numpy\n",
    "Deal with numeral data, especially multi-dimensional arrays and matrices."
   ]
  },
  {
   "cell_type": "code",
   "execution_count": 7,
   "metadata": {},
   "outputs": [
    {
     "data": {
      "text/plain": [
       "array([[ 0.64444706, -1.23711292],\n",
       "       [-0.33113512, -1.64421928],\n",
       "       [-0.08364439,  0.67266229]])"
      ]
     },
     "execution_count": 7,
     "metadata": {},
     "output_type": "execute_result"
    }
   ],
   "source": [
    "import numpy as np\n",
    "data_np = np.random.randn(3,2) # generate some random data\n",
    "data_np"
   ]
  },
  {
   "cell_type": "code",
   "execution_count": 2,
   "metadata": {},
   "outputs": [
    {
     "data": {
      "text/plain": [
       "array([[ 0.71485189, -2.09873793, -1.35377111],\n",
       "       [ 4.6396397 ,  3.3392872 , -1.80192433]])"
      ]
     },
     "execution_count": 2,
     "metadata": {},
     "output_type": "execute_result"
    }
   ],
   "source": [
    "#mathematical operations with data\n",
    "data_np*2"
   ]
  },
  {
   "cell_type": "code",
   "execution_count": 3,
   "metadata": {},
   "outputs": [
    {
     "data": {
      "text/plain": [
       "(2, 3)"
      ]
     },
     "execution_count": 3,
     "metadata": {},
     "output_type": "execute_result"
    }
   ],
   "source": [
    "# get the shape and data type of an array\n",
    "data_np.shape "
   ]
  },
  {
   "cell_type": "code",
   "execution_count": 45,
   "metadata": {},
   "outputs": [
    {
     "data": {
      "text/plain": [
       "dtype('float64')"
      ]
     },
     "execution_count": 45,
     "metadata": {},
     "output_type": "execute_result"
    }
   ],
   "source": [
    "data_np.dtype # all of the elements  are the same type"
   ]
  },
  {
   "cell_type": "code",
   "execution_count": 4,
   "metadata": {},
   "outputs": [
    {
     "data": {
      "text/plain": [
       "-0.9009621637888635"
      ]
     },
     "execution_count": 4,
     "metadata": {},
     "output_type": "execute_result"
    }
   ],
   "source": [
    "# Indexing\n",
    "data_np[1,2]"
   ]
  },
  {
   "cell_type": "code",
   "execution_count": 6,
   "metadata": {},
   "outputs": [
    {
     "data": {
      "text/plain": [
       "array([ 0.35742594, -1.04936897, -0.67688556])"
      ]
     },
     "execution_count": 6,
     "metadata": {},
     "output_type": "execute_result"
    }
   ],
   "source": [
    "# Slicing\n",
    "data_slice = data_np[0]\n",
    "data_slice"
   ]
  },
  {
   "cell_type": "markdown",
   "metadata": {},
   "source": [
    "Resources: NumPy tutorials and other useful links.\n",
    "https://numpy.org/numpy-tutorials/ (https://numpy.org/numpy-tutorials/)"
   ]
  },
  {
   "cell_type": "markdown",
   "metadata": {},
   "source": [
    "Task 3: Generate a random matrix which shape is (3,2). 3-rows and 2-columns.\n",
    "(5 minutes)"
   ]
  },
  {
   "cell_type": "markdown",
   "metadata": {},
   "source": [
    "## Matplotlib"
   ]
  },
  {
   "cell_type": "code",
   "execution_count": 9,
   "metadata": {},
   "outputs": [],
   "source": [
    "import matplotlib.pyplot as plt"
   ]
  },
  {
   "cell_type": "code",
   "execution_count": 15,
   "metadata": {},
   "outputs": [],
   "source": [
    "x = np.arange(0.0, 2, 0.01)\n",
    "y1 = np.sin(2 * np.pi * x)\n",
    "y2 = np.cos(2 * np.pi * x)"
   ]
  },
  {
   "cell_type": "code",
   "execution_count": 16,
   "metadata": {},
   "outputs": [
    {
     "data": {
      "image/png": "[encoded data removed]",
      "text/plain": [
       "<Figure size 432x432 with 2 Axes>"
      ]
     },
     "metadata": {
      "needs_background": "light"
     },
     "output_type": "display_data"
    }
   ],
   "source": [
    "fig, (ax1, ax2) = plt.subplots(2,1,sharex = True, figsize=(6, 6))\n",
    "ax1.plot(x, y1)\n",
    "ax1.set_title('y1 = np.sin(2 * np.pi * x)')\n",
    "ax2.plot(x, y2)\n",
    "ax2.set_title('y2 = np.cos(2 * np.pi * x)')\n",
    "fig.tight_layout()"
   ]
  },
  {
   "cell_type": "markdown",
   "metadata": {},
   "source": [
    "Task 4: replace y2 with other functions and observe the new curve. (5 minutes)\n",
    "\n",
    "For example:"
   ]
  },
  {
   "cell_type": "code",
   "execution_count": 18,
   "metadata": {},
   "outputs": [
    {
     "data": {
      "image/png": "[encoded data removed]",
      "text/plain": [
       "<Figure size 432x432 with 2 Axes>"
      ]
     },
     "metadata": {
      "needs_background": "light"
     },
     "output_type": "display_data"
    }
   ],
   "source": [
    "x = np.arange(0.0, 2, 0.01)\n",
    "y1 = np.sin(2 * np.pi * x)\n",
    "y2 = x * x * x\n",
    "fig, (ax1, ax2) = plt.subplots(2, 1, sharex=True, figsize=(6, 6))\n",
    "ax1.plot(x, y1)\n",
    "ax1.set_title('y1 = np.sin(2 * np.pi * x)')\n",
    "ax2.plot(x, y2)\n",
    "ax2.set_title('y2 = x * x * x')\n",
    "fig.tight_layout()"
   ]
  },
  {
   "cell_type": "markdown",
   "metadata": {},
   "source": [
    "Resources: examples of the many things you can do with Matplotlib, including images and source code.\n",
    "    \n",
    "https://matplotlib.org/stable/gallery/index.html  "
   ]
  },
  {
   "cell_type": "markdown",
   "metadata": {},
   "source": [
    "## Scikit-learn\n",
    "\n",
    "An introduction to Scikit-learn with Digits dataset and Iris dataset"
   ]
  },
  {
   "cell_type": "code",
   "execution_count": 19,
   "metadata": {},
   "outputs": [],
   "source": [
    "import matplotlib.pyplot as plt\n",
    "\n",
    "# Import datasets\n",
    "from sklearn import datasets\n",
    "%matplotlib inline"
   ]
  },
  {
   "cell_type": "markdown",
   "metadata": {},
   "source": [
    "### Digits dataset\n",
    "\n",
    "The digits dataset is made up of 1797 8x8 images. Each image is of a hand-written digit.\n",
    "\n",
    "The 'images' attribute of the dataset stores 8x8 arrays of grayscale values for each image, while the 'target' attribute of the dataset stores the digit each image represents.\n",
    "\n",
    "First, let's have a look at these gray scale images."
   ]
  },
  {
   "cell_type": "code",
   "execution_count": 20,
   "metadata": {},
   "outputs": [],
   "source": [
    "digits = datasets.load_digits()"
   ]
  },
  {
   "cell_type": "code",
   "execution_count": 27,
   "metadata": {},
   "outputs": [
    {
     "name": "stdout",
     "output_type": "stream",
     "text": [
      "(8, 8)\n"
     ]
    }
   ],
   "source": [
    "print(digits.images[0].shape)"
   ]
  },
  {
   "cell_type": "code",
   "execution_count": 23,
   "metadata": {},
   "outputs": [
    {
     "data": {
      "text/plain": [
       "<matplotlib.image.AxesImage at 0x7fefd06a63d0>"
      ]
     },
     "execution_count": 23,
     "metadata": {},
     "output_type": "execute_result"
    },
    {
     "data": {
      "text/plain": [
       "<Figure size 432x288 with 0 Axes>"
      ]
     },
     "metadata": {},
     "output_type": "display_data"
    },
    {
     "data": {
      "image/png": "[encoded data removed]",
      "text/plain": [
       "<Figure size 288x288 with 1 Axes>"
      ]
     },
     "metadata": {
      "needs_background": "light"
     },
     "output_type": "display_data"
    }
   ],
   "source": [
    "plt.gray() # try to find out what is this for.\n",
    "plt.matshow(digits.images[2]) # the raw image data"
   ]
  },
  {
   "cell_type": "markdown",
   "metadata": {},
   "source": [
    "Second, check the target."
   ]
  },
  {
   "cell_type": "code",
   "execution_count": 24,
   "metadata": {},
   "outputs": [
    {
     "name": "stdout",
     "output_type": "stream",
     "text": [
      "2\n"
     ]
    }
   ],
   "source": [
    "print(digits.target[2]) # the label"
   ]
  },
  {
   "cell_type": "markdown",
   "metadata": {},
   "source": [
    "### Iris dataset\n",
    "\n",
    "The iris dataset is a classic and very easy multi-class classification dataset.\n",
    "\n",
    "This data sets consists of 3 different types of irises’ (Setosa, Versicolour, and Virginica) petal and sepal length, stored in a 150x4 numpy.ndarray\n",
    "\n",
    "The rows being the samples and the columns being: Sepal Length, Sepal Width, Petal Length and Petal Width."
   ]
  },
  {
   "cell_type": "code",
   "execution_count": 25,
   "metadata": {},
   "outputs": [],
   "source": [
    "data = datasets.load_iris()"
   ]
  },
  {
   "cell_type": "markdown",
   "metadata": {},
   "source": [
    "Next, explore this dataset by yourself and answer the question below.\n",
    "\n",
    "How many samples do we have in total?\n",
    "\n",
    "What's the relationship between target array ([0,1,2]) and the class name (Setosa, Versicolour, Virginica) of the selected samples?\n",
    "\n",
    "Hints: https://scikit-learn.org/stable/auto_examples/datasets/plot_iris_dataset.html\n",
    "\n",
    "https://scikit-learn.org/stable/modules/generated/sklearn.datasets.load_iris.html"
   ]
  },
  {
   "cell_type": "code",
   "execution_count": 30,
   "metadata": {},
   "outputs": [
    {
     "data": {
      "text/plain": [
       "array([0, 1, 2])"
      ]
     },
     "execution_count": 30,
     "metadata": {},
     "output_type": "execute_result"
    }
   ],
   "source": [
    "data.target[[1, 55, 110]]# check the target of sample 1, 55, and 100"
   ]
  },
  {
   "cell_type": "code",
   "execution_count": 31,
   "metadata": {},
   "outputs": [
    {
     "data": {
      "text/plain": [
       "['setosa', 'versicolor', 'virginica']"
      ]
     },
     "execution_count": 31,
     "metadata": {},
     "output_type": "execute_result"
    }
   ],
   "source": [
    "list(data.target_names) # this data sets consists of 3 diffdrent types of irises."
   ]
  },
  {
   "cell_type": "code",
   "execution_count": 32,
   "metadata": {},
   "outputs": [
    {
     "data": {
      "text/plain": [
       "array([0, 0, 0, 0, 0, 0, 0, 0, 0, 0, 0, 0, 0, 0, 0, 0, 0, 0, 0, 0, 0, 0,\n",
       "       0, 0, 0, 0, 0, 0, 0, 0, 0, 0, 0, 0, 0, 0, 0, 0, 0, 0, 0, 0, 0, 0,\n",
       "       0, 0, 0, 0, 0])"
      ]
     },
     "execution_count": 32,
     "metadata": {},
     "output_type": "execute_result"
    }
   ],
   "source": [
    "data.target[0:49]"
   ]
  },
  {
   "cell_type": "code",
   "execution_count": 33,
   "metadata": {},
   "outputs": [
    {
     "data": {
      "text/plain": [
       "array([1, 1, 1, 1, 1, 1, 1, 1, 1, 1, 1, 1, 1, 1, 1, 1, 1, 1, 1, 1, 1, 1,\n",
       "       1, 1, 1, 1, 1, 1, 1, 1, 1, 1, 1, 1, 1, 1, 1, 1, 1, 1, 1, 1, 1, 1,\n",
       "       1, 1, 1, 1, 1])"
      ]
     },
     "execution_count": 33,
     "metadata": {},
     "output_type": "execute_result"
    }
   ],
   "source": [
    "data.target[50:99]"
   ]
  },
  {
   "cell_type": "code",
   "execution_count": 34,
   "metadata": {},
   "outputs": [
    {
     "data": {
      "text/plain": [
       "array([2, 2, 2, 2, 2, 2, 2, 2, 2, 2, 2, 2, 2, 2, 2, 2, 2, 2, 2, 2, 2, 2,\n",
       "       2, 2, 2, 2, 2, 2, 2, 2, 2, 2, 2, 2, 2, 2, 2, 2, 2, 2, 2, 2, 2, 2,\n",
       "       2, 2, 2, 2, 2])"
      ]
     },
     "execution_count": 34,
     "metadata": {},
     "output_type": "execute_result"
    }
   ],
   "source": [
    "data.target[100:149]"
   ]
  },
  {
   "cell_type": "markdown",
   "metadata": {},
   "source": [
    "Have you found any pattern in 'data.target'?\n",
    "\n",
    "\n",
    "\n",
    "Resources: Machine Learning tutorials\n",
    "https://scikit-learn.org/stable/tutorial/index.html (https://scikit-learn.org/stable/tutorial/index.html)"
   ]
  },
  {
   "cell_type": "code",
   "execution_count": null,
   "metadata": {},
   "outputs": [],
   "source": []
  }
 ],
 "metadata": {
  "kernelspec": {
   "display_name": "Python 3",
   "language": "python",
   "name": "python3"
  },
  "language_info": {
   "codemirror_mode": {
    "name": "ipython",
    "version": 3
   },
   "file_extension": ".py",
   "mimetype": "text/x-python",
   "name": "python",
   "nbconvert_exporter": "python",
   "pygments_lexer": "ipython3",
   "version": "3.8.5"
  }
 },
 "nbformat": 4,
 "nbformat_minor": 4
}
