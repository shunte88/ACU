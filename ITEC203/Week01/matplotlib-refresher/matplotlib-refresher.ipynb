{
 "cells": [
  {
   "cell_type": "code",
   "execution_count": null,
   "id": "d257763e",
   "metadata": {},
   "outputs": [],
   "source": [
    "import numpy as np\n",
    "import matplotlib.pyplot as plt\n",
    "from matplotlib.animation import FuncAnimation"
   ]
  },
  {
   "cell_type": "code",
   "execution_count": null,
   "id": "117fb022",
   "metadata": {},
   "outputs": [],
   "source": [
    "# --- Basic Plotting ---\n",
    "# Plot a simple line graph with given points: y = x^2\n",
    "x = np.array([1, 2, 3, 4])  # Define x-values as a NumPy array\n",
    "y = x**2  # Compute y = x^2\n",
    "plt.plot(x, y, label='y = x^2')  # Plot with a label\n",
    "plt.xlabel('x')  # Label for x-axis\n",
    "plt.ylabel('y')  # Label for y-axis\n",
    "plt.title('Basic Plot: y = x^2')  # Title of the plot\n",
    "plt.legend()  # Display the legend\n",
    "plt.show()  # Show the plot"
   ]
  },
  {
   "cell_type": "code",
   "execution_count": null,
   "id": "a71d50f6",
   "metadata": {},
   "outputs": [],
   "source": [
    "# --- Multiple Figures and Axes ---\n",
    "# Create a figure with two subplots side by side\n",
    "fig, (ax1, ax2) = plt.subplots(1, 2, figsize=(10, 4))  # 1 row, 2 columns, set figure size"
   ]
  },
  {
   "cell_type": "code",
   "execution_count": null,
   "id": "e231b214",
   "metadata": {},
   "outputs": [],
   "source": [
    "# Plot y = sin(x) on the first subplot\n",
    "x = np.linspace(0, 2*np.pi, 100)  # 100 points from 0 to 2π\n",
    "y_sin = np.sin(x)  # Compute y = sin(x)\n",
    "ax1.plot(x, y_sin, color='blue')  # Plot with blue line\n",
    "ax1.set_title('y = sin(x)')  # Title for first subplot"
   ]
  },
  {
   "cell_type": "code",
   "execution_count": null,
   "id": "c6356249",
   "metadata": {},
   "outputs": [],
   "source": [
    "# Plot y = x^2 - 3x + 2 on the second subplot\n",
    "y_poly = x**2 - 3*x + 2  # Compute y = x^2 - 3x + 2\n",
    "ax2.plot(x, y_poly, color='red')  # Plot with red line\n",
    "ax2.set_title('y = x^2 - 3x + 2')  # Title for second subplot\n",
    "plt.show()  # Display both subplots"
   ]
  },
  {
   "cell_type": "code",
   "execution_count": null,
   "id": "733f29e1",
   "metadata": {},
   "outputs": [],
   "source": [
    "# --- Formatting Plot Style ---\n",
    "# Customize a plot with colors, markers, and line styles\n",
    "x = np.linspace(0, 10, 20)  # 20 evenly spaced points from 0 to 10\n",
    "y = np.sin(x)  # Compute y = sin(x) for styling\n",
    "plt.plot(x, y, color='green', marker='o', linestyle='--', linewidth=2, markersize=8)  # Styled plot\n",
    "plt.xlabel('X-axis')  # X-axis label\n",
    "plt.ylabel('Y-axis')  # Y-axis label\n",
    "plt.title('Styled Plot')  # Plot title\n",
    "plt.grid(True)  # Add a grid\n",
    "plt.show()  # Display the styled plot"
   ]
  },
  {
   "cell_type": "code",
   "execution_count": null,
   "id": "96a865f2",
   "metadata": {
    "lines_to_next_cell": 1
   },
   "outputs": [],
   "source": [
    "# --- Animated Plot: Moving y = sin(x) ---\n",
    "# Set up a figure and axis for animation\n",
    "fig, ax = plt.subplots()  # Create figure and axis\n",
    "x = np.linspace(0, 2*np.pi, 100)  # 100 points from 0 to 2π\n",
    "line, = ax.plot(x, np.sin(x))  # Initial plot of y = sin(x)"
   ]
  },
  {
   "cell_type": "code",
   "execution_count": null,
   "id": "f3ffaa67",
   "metadata": {
    "lines_to_next_cell": 1
   },
   "outputs": [],
   "source": [
    "# Define the update function for animation\n",
    "def update(frame):\n",
    "    line.set_ydata(np.sin(x + frame / 10.0))  # Shift sine wave by frame\n",
    "    return line,"
   ]
  },
  {
   "cell_type": "code",
   "execution_count": null,
   "id": "28d10462",
   "metadata": {},
   "outputs": [],
   "source": [
    "# Create and save the animation\n",
    "ani = FuncAnimation(fig, update, frames=100, interval=50)  # 100 frames, 50ms interval\n",
    "ani.save('sine_wave.gif', writer='pillow')  # Save as GIF\n",
    "plt.show()  # Display the animation"
   ]
  },
  {
   "cell_type": "code",
   "execution_count": null,
   "id": "ff64718b",
   "metadata": {},
   "outputs": [],
   "source": [
    "# --- Random Data and Histogram ---\n",
    "# Generate random data with a normal distribution\n",
    "mu, sigma = 100, 15  # Mean (mu) and standard deviation (sigma)\n",
    "x = mu + sigma * np.random.randn(10000)  # 10,000 random points"
   ]
  },
  {
   "cell_type": "code",
   "execution_count": null,
   "id": "10f7d33c",
   "metadata": {},
   "outputs": [],
   "source": [
    "# Create a histogram of the data\n",
    "n, bins, patches = plt.hist(x, 50, density=True, facecolor='g', alpha=0.75)  # 50 bins, green color\n",
    "plt.xlabel('Smarts')  # X-axis label\n",
    "plt.ylabel('Probability')  # Y-axis label\n",
    "plt.title('Histogram of IQ')  # Plot title\n",
    "plt.text(60, 0.025, r'$\\mu=100,\\ \\sigma=15$')  # Add text with mean and sigma\n",
    "plt.axis([40, 160, 0, 0.03])  # Set axis limits: [xmin, xmax, ymin, ymax]\n",
    "plt.grid(True)  # Add a grid\n",
    "plt.show()  # Display the histogram"
   ]
  }
 ],
 "metadata": {
  "jupytext": {
   "cell_metadata_filter": "-all",
   "main_language": "python",
   "notebook_metadata_filter": "-all"
  }
 },
 "nbformat": 4,
 "nbformat_minor": 5
}
