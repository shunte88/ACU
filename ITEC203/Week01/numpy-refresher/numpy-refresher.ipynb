{
 "cells": [
  {
   "cell_type": "code",
   "execution_count": null,
   "id": "6673d83c",
   "metadata": {},
   "outputs": [],
   "source": [
    "import numpy as np"
   ]
  },
  {
   "cell_type": "code",
   "execution_count": null,
   "id": "0501ab05",
   "metadata": {},
   "outputs": [],
   "source": [
    "# 1. NumPy Arrays: Creating and Manipulating Arrays\n",
    "print(\"\\n--- Creating and Manipulating Arrays ---\")\n",
    "arr = np.array([1, 2, 3, 4, 5])\n",
    "print(\"Basic array:\", arr)"
   ]
  },
  {
   "cell_type": "code",
   "execution_count": null,
   "id": "7054e87c",
   "metadata": {},
   "outputs": [],
   "source": [
    "# Creating a 2D array\n",
    "arr_2d = np.array([[1, 2], [3, 4]], dtype=np.float64)\n",
    "print(\"2D array:\\n\", arr_2d)"
   ]
  },
  {
   "cell_type": "code",
   "execution_count": null,
   "id": "d4196f93",
   "metadata": {},
   "outputs": [],
   "source": [
    "# Reshaping an array\n",
    "reshaped = arr.reshape(5, 1)\n",
    "print(\"Reshaped array:\\n\", reshaped)"
   ]
  },
  {
   "cell_type": "code",
   "execution_count": null,
   "id": "0e695ee3",
   "metadata": {},
   "outputs": [],
   "source": [
    "# Using np.arange\n",
    "arange_arr = np.arange(0, 10, 2)\n",
    "print(\"Arange array:\", arange_arr)"
   ]
  },
  {
   "cell_type": "code",
   "execution_count": null,
   "id": "c6a80b65",
   "metadata": {},
   "outputs": [],
   "source": [
    "# Using np.linspace\n",
    "linspace_arr = np.linspace(0, 1, 5)\n",
    "print(\"Linspace array:\", linspace_arr)"
   ]
  },
  {
   "cell_type": "code",
   "execution_count": null,
   "id": "806a7543",
   "metadata": {},
   "outputs": [],
   "source": [
    "# Using np.zeros and np.ones\n",
    "zeros = np.zeros((2, 3))\n",
    "ones = np.ones((3, 3))\n",
    "print(\"Zeros:\\n\", zeros)\n",
    "print(\"Ones:\\n\", ones)"
   ]
  },
  {
   "cell_type": "code",
   "execution_count": null,
   "id": "f7b9a2d8",
   "metadata": {},
   "outputs": [],
   "source": [
    "# 2. NumPy Indexing & Slicing\n",
    "print(\"\\n--- Indexing & Slicing ---\")\n",
    "# Single element indexing\n",
    "print(\"Element at index 2:\", arr[2])"
   ]
  },
  {
   "cell_type": "code",
   "execution_count": null,
   "id": "8f858235",
   "metadata": {},
   "outputs": [],
   "source": [
    "# Slicing\n",
    "sliced = arr[1:4]\n",
    "print(\"Sliced array:\", sliced)"
   ]
  },
  {
   "cell_type": "code",
   "execution_count": null,
   "id": "d26ff81e",
   "metadata": {},
   "outputs": [],
   "source": [
    "# 2D indexing\n",
    "print(\"Element at row 0, column 1:\", arr_2d[0, 1])"
   ]
  },
  {
   "cell_type": "code",
   "execution_count": null,
   "id": "c51154c9",
   "metadata": {},
   "outputs": [],
   "source": [
    "# Boolean indexing\n",
    "bool_index = arr > 3\n",
    "print(\"Boolean index:\", bool_index)\n",
    "filtered = arr[bool_index]\n",
    "print(\"Filtered array:\", filtered)"
   ]
  },
  {
   "cell_type": "code",
   "execution_count": null,
   "id": "69e4daa6",
   "metadata": {},
   "outputs": [],
   "source": [
    "# Fancy indexing\n",
    "indices = [0, 2, 4]\n",
    "fancy_indexed = arr[indices]\n",
    "print(\"Fancy indexed array:\", fancy_indexed)"
   ]
  },
  {
   "cell_type": "code",
   "execution_count": null,
   "id": "dcf34eb5",
   "metadata": {},
   "outputs": [],
   "source": [
    "# 3. NumPy Array Attributes & Operations\n",
    "print(\"\\n--- Array Attributes & Operations ---\")\n",
    "# Shape, size, dimensions\n",
    "print(\"Shape:\", arr.shape)\n",
    "print(\"Size:\", arr.size)\n",
    "print(\"Dimensions:\", arr.ndim)"
   ]
  },
  {
   "cell_type": "code",
   "execution_count": null,
   "id": "d53330ab",
   "metadata": {},
   "outputs": [],
   "source": [
    "# Item size and data type\n",
    "print(\"Item size:\", arr.itemsize)\n",
    "print(\"Data type:\", arr.dtype)"
   ]
  },
  {
   "cell_type": "code",
   "execution_count": null,
   "id": "0d5b26db",
   "metadata": {},
   "outputs": [],
   "source": [
    "# Basic operations\n",
    "addition = arr + 2\n",
    "multiplication = arr * 3\n",
    "exponentiation = arr ** 2\n",
    "print(\"Addition:\", addition)\n",
    "print(\"Multiplication:\", multiplication)\n",
    "print(\"Exponentiation:\", exponentiation)"
   ]
  },
  {
   "cell_type": "code",
   "execution_count": null,
   "id": "e6e080b6",
   "metadata": {},
   "outputs": [],
   "source": [
    "# 4. NumPy Advanced Array Operations\n",
    "print(\"\\n--- Advanced Array Operations ---\")\n",
    "# Broadcasting\n",
    "a = np.array([[1, 2], [3, 4]])\n",
    "b = np.array([5, 6])\n",
    "broadcasted = a + b\n",
    "print(\"Broadcasting result:\\n\", broadcasted)"
   ]
  },
  {
   "cell_type": "code",
   "execution_count": null,
   "id": "765d09f4",
   "metadata": {},
   "outputs": [],
   "source": [
    "# Vectorized operations\n",
    "vectorized = np.vectorize(lambda x: x**2)\n",
    "result = vectorized(arr)\n",
    "print(\"Vectorized operation result:\", result)"
   ]
  },
  {
   "cell_type": "code",
   "execution_count": null,
   "id": "defcb42c",
   "metadata": {},
   "outputs": [],
   "source": [
    "# 5. NumPy Sorting and Advanced Manipulation\n",
    "print(\"\\n--- Sorting and Advanced Manipulation ---\")\n",
    "# Sorting an array\n",
    "sorted_arr = np.sort(arr)\n",
    "print(\"Sorted array:\", sorted_arr)"
   ]
  },
  {
   "cell_type": "code",
   "execution_count": null,
   "id": "ba871fda",
   "metadata": {},
   "outputs": [],
   "source": [
    "# Using where\n",
    "condition = arr > 3\n",
    "result_where = np.where(condition, arr * 2, arr)\n",
    "print(\"Where result:\", result_where)"
   ]
  },
  {
   "cell_type": "code",
   "execution_count": null,
   "id": "ab47a801",
   "metadata": {},
   "outputs": [],
   "source": [
    "# Using reshape and transpose\n",
    "transposed = arr_2d.T\n",
    "print(\"Transposed array:\\n\", transposed)"
   ]
  },
  {
   "cell_type": "code",
   "execution_count": null,
   "id": "03ed0da4",
   "metadata": {},
   "outputs": [],
   "source": [
    "# 6. NumPy Handling Missing Data\n",
    "print(\"\\n--- Handling Missing Data ---\")\n",
    "# Creating an array with NaNs\n",
    "missing_data = np.array([1, 2, np.nan, 4, 5])\n",
    "print(\"Array with NaNs:\", missing_data)"
   ]
  },
  {
   "cell_type": "code",
   "execution_count": null,
   "id": "51627637",
   "metadata": {},
   "outputs": [],
   "source": [
    "# Checking for NaNs\n",
    "has_nan = np.isnan(missing_data)\n",
    "print(\"NaN check:\", has_nan)"
   ]
  },
  {
   "cell_type": "code",
   "execution_count": null,
   "id": "f6d0696b",
   "metadata": {},
   "outputs": [],
   "source": [
    "# Handling NaNs in calculations\n",
    "mean_without_nan = np.nanmean(missing_data)\n",
    "print(\"Mean without NaN:\", mean_without_nan)"
   ]
  },
  {
   "cell_type": "code",
   "execution_count": null,
   "id": "8648754e",
   "metadata": {},
   "outputs": [],
   "source": [
    "# 7. NumPy Performance Optimization\n",
    "print(\"\\n--- Performance Optimization ---\")\n",
    "# Vectorized operations are faster than loops\n",
    "# Example: Adding two arrays element-wise\n",
    "a = np.array([1, 2, 3])\n",
    "b = np.array([4, 5, 6])\n",
    "vectorized_addition = a + b\n",
    "print(\"Vectorized addition:\", vectorized_addition)"
   ]
  },
  {
   "cell_type": "code",
   "execution_count": null,
   "id": "94e1dad4",
   "metadata": {},
   "outputs": [],
   "source": [
    "# Avoiding loops using broadcasting\n",
    "matrix = np.random.rand(3, 3)\n",
    "vector = np.array([1, 2, 3])\n",
    "broadcasted_result = matrix + vector[:, np.newaxis]\n",
    "print(\"Broadcasting result:\\n\", broadcasted_result)"
   ]
  },
  {
   "cell_type": "code",
   "execution_count": null,
   "id": "d9cf2fe9",
   "metadata": {},
   "outputs": [],
   "source": [
    "# 8. NumPy Linear Algebra\n",
    "print(\"\\n--- Linear Algebra ---\")\n",
    "# Matrix multiplication\n",
    "a = np.array([[1, 2], [3, 4]])\n",
    "b = np.array([[5, 6], [7, 8]])\n",
    "dot_product = np.dot(a, b)\n",
    "print(\"Dot product:\\n\", dot_product)"
   ]
  },
  {
   "cell_type": "code",
   "execution_count": null,
   "id": "cb1aaab9",
   "metadata": {},
   "outputs": [],
   "source": [
    "# Solving a system of linear equations\n",
    "coefficients = np.array([[3, 1], [1, 2]])\n",
    "constants = np.array([9, 8])\n",
    "solution = np.linalg.solve(coefficients, constants)\n",
    "print(\"Solution:\", solution)"
   ]
  },
  {
   "cell_type": "code",
   "execution_count": null,
   "id": "2dea9983",
   "metadata": {},
   "outputs": [],
   "source": [
    "# Eigenvalues and eigenvectors\n",
    "eigenvalues, eigenvectors = np.linalg.eig(a)\n",
    "print(\"Eigenvalues:\", eigenvalues)\n",
    "print(\"Eigenvectors:\\n\", eigenvectors)"
   ]
  },
  {
   "cell_type": "code",
   "execution_count": null,
   "id": "c27b4875",
   "metadata": {},
   "outputs": [],
   "source": [
    "# 9. NumPy Element-wise Matrix Operations\n",
    "print(\"\\n--- Element-wise Matrix Operations ---\")\n",
    "# Element-wise multiplication\n",
    "element_mult = np.multiply(a, b)\n",
    "print(\"Element-wise multiplication:\\n\", element_mult)"
   ]
  },
  {
   "cell_type": "code",
   "execution_count": null,
   "id": "8f669c79",
   "metadata": {},
   "outputs": [],
   "source": [
    "# Element-wise division\n",
    "element_div = np.divide(a, b)\n",
    "print(\"Element-wise division:\\n\", element_div)"
   ]
  },
  {
   "cell_type": "code",
   "execution_count": null,
   "id": "81e13c16",
   "metadata": {},
   "outputs": [],
   "source": [
    "# Element-wise square root\n",
    "sqrt_arr = np.sqrt(a)\n",
    "print(\"Square root:\\n\", sqrt_arr)"
   ]
  },
  {
   "cell_type": "code",
   "execution_count": null,
   "id": "09a3bfd6",
   "metadata": {},
   "outputs": [],
   "source": [
    "# 10. NumPy Set Operations\n",
    "print(\"\\n--- Set Operations ---\")\n",
    "# Unique elements\n",
    "unique_elements = np.unique(arr)\n",
    "print(\"Unique elements:\", unique_elements)"
   ]
  },
  {
   "cell_type": "code",
   "execution_count": null,
   "id": "5cd0f3fd",
   "metadata": {},
   "outputs": [],
   "source": [
    "# Checking membership\n",
    "membership = np.in1d([1, 3, 5], arr)\n",
    "print(\"Membership check:\", membership)"
   ]
  },
  {
   "cell_type": "code",
   "execution_count": null,
   "id": "bba2f346",
   "metadata": {},
   "outputs": [],
   "source": [
    "# Intersection of arrays\n",
    "arr1 = np.array([1, 2, 3])\n",
    "arr2 = np.array([3, 4, 5])\n",
    "intersection = np.intersect1d(arr1, arr2)\n",
    "print(\"Intersection:\", intersection)"
   ]
  },
  {
   "cell_type": "code",
   "execution_count": null,
   "id": "803297fb",
   "metadata": {},
   "outputs": [],
   "source": [
    "# 11. NumPy Random Number Generation\n",
    "print(\"\\n--- Random Number Generation ---\")\n",
    "# Generating random integers\n",
    "random_integers = np.random.randint(1, 10, size=5)\n",
    "print(\"Random integers:\", random_integers)"
   ]
  },
  {
   "cell_type": "code",
   "execution_count": null,
   "id": "0d2d29ed",
   "metadata": {},
   "outputs": [],
   "source": [
    "# Generating random floats\n",
    "random_floats = np.random.rand(3, 3)\n",
    "print(\"Random floats:\\n\", random_floats)"
   ]
  },
  {
   "cell_type": "code",
   "execution_count": null,
   "id": "1124c706",
   "metadata": {},
   "outputs": [],
   "source": [
    "# Using seed for reproducibility\n",
    "np.random.seed(42)\n",
    "random_with_seed = np.random.rand(3)\n",
    "print(\"Random with seed:\", random_with_seed)"
   ]
  },
  {
   "cell_type": "code",
   "execution_count": null,
   "id": "2aaee39e",
   "metadata": {},
   "outputs": [],
   "source": [
    "# 12. NumPy File Input & Output\n",
    "print(\"\\n--- File Input & Output ---\")\n",
    "# Saving an array to a text file\n",
    "np.savetxt('array.txt', arr, delimiter=',')\n",
    "# Loading the array back\n",
    "loaded_arr = np.loadtxt('array.txt', delimiter=',')\n",
    "print(\"Loaded array:\", loaded_arr)"
   ]
  },
  {
   "cell_type": "code",
   "execution_count": null,
   "id": "cc646f16",
   "metadata": {},
   "outputs": [],
   "source": [
    "# Saving and loading with np.savez\n",
    "np.savez('arrays.npz', a=a, b=b)\n",
    "# Loading the arrays back\n",
    "loaded = np.load('arrays.npz')\n",
    "print(\"Loaded a:\\n\", loaded['a'])\n",
    "print(\"Loaded b:\\n\", loaded['b'])"
   ]
  },
  {
   "cell_type": "code",
   "execution_count": null,
   "id": "6cd02ab2",
   "metadata": {},
   "outputs": [],
   "source": [
    "# 13. NumPy Mathematical Functions\n",
    "print(\"\\n--- Mathematical Functions ---\")\n",
    "# Trigonometric functions\n",
    "sin_values = np.sin(np.array([0, np.pi/2, np.pi]))\n",
    "print(\"Sine values:\", sin_values)"
   ]
  },
  {
   "cell_type": "code",
   "execution_count": null,
   "id": "ee884e0c",
   "metadata": {},
   "outputs": [],
   "source": [
    "# Exponential and logarithmic functions\n",
    "exp_values = np.exp(np.array([0, 1, 2]))\n",
    "log_values = np.log(exp_values)\n",
    "print(\"Exponential values:\", exp_values)\n",
    "print(\"Logarithmic values:\", log_values)"
   ]
  },
  {
   "cell_type": "code",
   "execution_count": null,
   "id": "8e728cc4",
   "metadata": {},
   "outputs": [],
   "source": [
    "# 14. NumPy Statistics\n",
    "print(\"\\n--- Statistics ---\")\n",
    "# Mean, median, standard deviation\n",
    "mean = np.mean(arr)\n",
    "median = np.median(arr)\n",
    "std_dev = np.std(arr)\n",
    "print(\"Mean:\", mean)\n",
    "print(\"Median:\", median)\n",
    "print(\"Standard deviation:\", std_dev)"
   ]
  },
  {
   "cell_type": "code",
   "execution_count": null,
   "id": "65e85b39",
   "metadata": {},
   "outputs": [],
   "source": [
    "# Min, max, and percentiles\n",
    "min_val = np.min(arr)\n",
    "max_val = np.max(arr)\n",
    "percentile_50 = np.percentile(arr, 50)\n",
    "print(\"Min:\", min_val)\n",
    "print(\"Max:\", max_val)\n",
    "print(\"50th percentile:\", percentile_50)"
   ]
  },
  {
   "cell_type": "code",
   "execution_count": null,
   "id": "42a2b497",
   "metadata": {},
   "outputs": [],
   "source": [
    "# 15. NumPy Datetime\n",
    "print(\"\\n--- Datetime ---\")\n",
    "# Creating datetime64 array\n",
    "dates = np.array(['2023-10-01', '2023-10-02', '2023-10-03'], dtype='datetime64')\n",
    "print(\"Datetime array:\", dates)"
   ]
  },
  {
   "cell_type": "code",
   "execution_count": null,
   "id": "75b61039",
   "metadata": {},
   "outputs": [],
   "source": [
    "# Current date and time\n",
    "now = np.datetime64('now')\n",
    "print(\"Current datetime:\", now)"
   ]
  },
  {
   "cell_type": "code",
   "execution_count": null,
   "id": "51e446fa",
   "metadata": {},
   "outputs": [],
   "source": [
    "# Calculating differences between dates\n",
    "delta = np.datetime64('2023-10-05') - now\n",
    "print(\"Time difference:\", delta)"
   ]
  },
  {
   "cell_type": "code",
   "execution_count": null,
   "id": "b767748c",
   "metadata": {},
   "outputs": [],
   "source": [
    "# Extracting components\n",
    "year = dates.astype('datetime64[Y]')\n",
    "day_of_week = np.datetime64(dates[0], 'W')\n",
    "print(\"Year component:\", year)\n",
    "print(\"Day of week:\", day_of_week)"
   ]
  },
  {
   "cell_type": "code",
   "execution_count": null,
   "id": "986ea8f0",
   "metadata": {},
   "outputs": [],
   "source": [
    "# 16. NumPy Boolean Arrays\n",
    "print(\"\\n--- Boolean Arrays ---\")\n",
    "# Creating a boolean array\n",
    "bool_arr = np.array([True, False, True], dtype=bool)\n",
    "print(\"Boolean array:\", bool_arr)"
   ]
  },
  {
   "cell_type": "code",
   "execution_count": null,
   "id": "da828fef",
   "metadata": {},
   "outputs": [],
   "source": [
    "# Logical operations\n",
    "logical_and = np.logical_and(arr > 1, arr < 5)\n",
    "print(\"Logical AND:\", logical_and)"
   ]
  },
  {
   "cell_type": "code",
   "execution_count": null,
   "id": "17664117",
   "metadata": {},
   "outputs": [],
   "source": [
    "# Using boolean arrays for indexing\n",
    "filtered = arr[logical_and]\n",
    "print(\"Filtered array:\", filtered)"
   ]
  },
  {
   "cell_type": "code",
   "execution_count": null,
   "id": "73fb91bf",
   "metadata": {},
   "outputs": [],
   "source": [
    "# 17. NumPy Structured Arrays\n",
    "print(\"\\n--- Structured Arrays ---\")\n",
    "# Creating a structured array\n",
    "dtype = [('name', 'U10'), ('age', int), ('weight', float)]\n",
    "data = np.array([('Alice', 30, 65.2), ('Bob', 25, 70.5)], dtype=dtype)\n",
    "print(\"Structured array:\\n\", data)"
   ]
  },
  {
   "cell_type": "code",
   "execution_count": null,
   "id": "ddb980a0",
   "metadata": {},
   "outputs": [],
   "source": [
    "# Accessing fields\n",
    "names = data['name']\n",
    "ages = data['age']\n",
    "print(\"Names:\", names)\n",
    "print(\"Ages:\", ages)"
   ]
  },
  {
   "cell_type": "code",
   "execution_count": null,
   "id": "4c115bdb",
   "metadata": {},
   "outputs": [],
   "source": [
    "# Modifying fields\n",
    "data['age'] = [31, 26]\n",
    "print(\"Updated ages:\", data['age'])"
   ]
  },
  {
   "cell_type": "code",
   "execution_count": null,
   "id": "4abaaaec",
   "metadata": {},
   "outputs": [],
   "source": [
    "# 18. NumPy Broadcasting\n",
    "print(\"\\n--- Broadcasting ---\")\n",
    "a = np.array([[1, 2], [3, 4]])\n",
    "b = np.array([5, 6])\n",
    "broadcasted_result = a + b\n",
    "print(\"Broadcasting result:\\n\", broadcasted_result)"
   ]
  },
  {
   "cell_type": "code",
   "execution_count": null,
   "id": "8653e805",
   "metadata": {},
   "outputs": [],
   "source": [
    "# Broadcasting with different shapes\n",
    "c = np.array([[1, 2], [3, 4]])\n",
    "d = np.array([5])\n",
    "broadcasted_result_2 = c + d\n",
    "print(\"Broadcasting with scalar:\\n\", broadcasted_result_2)"
   ]
  },
  {
   "cell_type": "code",
   "execution_count": null,
   "id": "d450063e",
   "metadata": {
    "lines_to_next_cell": 1
   },
   "outputs": [],
   "source": [
    "# 19. NumPy Vectorization\n",
    "print(\"\\n--- Vectorization ---\")\n",
    "def square(x):\n",
    "    return x ** 2"
   ]
  },
  {
   "cell_type": "code",
   "execution_count": null,
   "id": "0ce919a6",
   "metadata": {},
   "outputs": [],
   "source": [
    "vectorized_square = np.vectorize(square)\n",
    "result = vectorized_square(arr)\n",
    "print(\"Vectorized square:\", result)"
   ]
  },
  {
   "cell_type": "code",
   "execution_count": null,
   "id": "cf6916df",
   "metadata": {},
   "outputs": [],
   "source": [
    "# Using universal functions (ufuncs)\n",
    "result_ufunc = np.square(arr)\n",
    "print(\"Ufunc square:\", result_ufunc)"
   ]
  },
  {
   "cell_type": "code",
   "execution_count": null,
   "id": "1a5b2555",
   "metadata": {},
   "outputs": [],
   "source": [
    "# 20. NumPy Memory Management\n",
    "print(\"\\n--- Memory Management ---\")\n",
    "# Checking memory usage\n",
    "memory_usage = arr.nbytes\n",
    "print(\"Memory usage:\", memory_usage, \"bytes\")"
   ]
  },
  {
   "cell_type": "code",
   "execution_count": null,
   "id": "93cf4f3f",
   "metadata": {},
   "outputs": [],
   "source": [
    "# Using views to save memory\n",
    "view = arr.view()\n",
    "print(\"View of array:\", view)"
   ]
  },
  {
   "cell_type": "code",
   "execution_count": null,
   "id": "55b50933",
   "metadata": {},
   "outputs": [],
   "source": [
    "# Copying arrays\n",
    "copy = arr.copy()\n",
    "print(\"Copy of array:\", copy)"
   ]
  },
  {
   "cell_type": "code",
   "execution_count": null,
   "id": "a1dd5a4c",
   "metadata": {},
   "outputs": [],
   "source": [
    "# 21. NumPy Matrix Operations\n",
    "print(\"\\n--- Matrix Operations ---\")\n",
    "matrix_a = np.array([[1, 2], [3, 4]])\n",
    "matrix_b = np.array([[5, 6], [7, 8]])"
   ]
  },
  {
   "cell_type": "code",
   "execution_count": null,
   "id": "78fe2dec",
   "metadata": {},
   "outputs": [],
   "source": [
    "# Matrix multiplication\n",
    "matrix_product = np.matmul(matrix_a, matrix_b)\n",
    "print(\"Matrix product:\\n\", matrix_product)"
   ]
  },
  {
   "cell_type": "code",
   "execution_count": null,
   "id": "51b3c3ee",
   "metadata": {},
   "outputs": [],
   "source": [
    "# Matrix inverse\n",
    "matrix_inv = np.linalg.inv(matrix_a)\n",
    "print(\"Matrix inverse:\\n\", matrix_inv)"
   ]
  },
  {
   "cell_type": "code",
   "execution_count": null,
   "id": "686bda43",
   "metadata": {},
   "outputs": [],
   "source": [
    "# Matrix determinant\n",
    "matrix_det = np.linalg.det(matrix_a)\n",
    "print(\"Matrix determinant:\", matrix_det)"
   ]
  },
  {
   "cell_type": "code",
   "execution_count": null,
   "id": "fddbac4c",
   "metadata": {},
   "outputs": [],
   "source": [
    "# 22. NumPy Polynomial Operations\n",
    "print(\"\\n--- Polynomial Operations ---\")\n",
    "coefficients = np.array([1, -3, 2])  # Represents x^2 - 3x + 2\n",
    "roots = np.roots(coefficients)\n",
    "print(\"Roots of polynomial:\", roots)"
   ]
  },
  {
   "cell_type": "code",
   "execution_count": null,
   "id": "2ef56006",
   "metadata": {},
   "outputs": [],
   "source": [
    "# Evaluating a polynomial\n",
    "x = 2\n",
    "polynomial_value = np.polyval(coefficients, x)\n",
    "print(\"Polynomial value at x=2:\", polynomial_value)"
   ]
  },
  {
   "cell_type": "code",
   "execution_count": null,
   "id": "27b84b2e",
   "metadata": {},
   "outputs": [],
   "source": [
    "# Fitting a polynomial to data\n",
    "x_data = np.array([1, 2, 3])\n",
    "y_data = np.array([2, 4, 6])\n",
    "fitted_coeffs = np.polyfit(x_data, y_data, 1)\n",
    "print(\"Fitted coefficients:\", fitted_coeffs)"
   ]
  },
  {
   "cell_type": "code",
   "execution_count": null,
   "id": "a71e4b9a",
   "metadata": {},
   "outputs": [],
   "source": [
    "# 23. NumPy Fourier Transform\n",
    "print(\"\\n--- Fourier Transform ---\")\n",
    "signal = np.array([1, 2, 3, 4])\n",
    "fourier_transform = np.fft.fft(signal)\n",
    "print(\"Fourier transform:\", fourier_transform)"
   ]
  },
  {
   "cell_type": "code",
   "execution_count": null,
   "id": "819dcfbe",
   "metadata": {},
   "outputs": [],
   "source": [
    "# Inverse Fourier transform\n",
    "inverse_transform = np.fft.ifft(fourier_transform)\n",
    "print(\"Inverse Fourier transform:\", inverse_transform)"
   ]
  },
  {
   "cell_type": "code",
   "execution_count": null,
   "id": "cb160103",
   "metadata": {},
   "outputs": [],
   "source": [
    "# 24. NumPy Image Processing\n",
    "print(\"\\n--- Image Processing ---\")\n",
    "# Creating a simple image array\n",
    "image = np.array([[1, 2, 3], [4, 5, 6], [7, 8, 9]], dtype=np.uint8)\n",
    "print(\"Image array:\\n\", image)"
   ]
  },
  {
   "cell_type": "code",
   "execution_count": null,
   "id": "498f9aa9",
   "metadata": {
    "lines_to_next_cell": 2
   },
   "outputs": [],
   "source": [
    "# Resizing the image\n",
    "resized_image = np.resize(image, (6, 6))\n",
    "print(\"Resized image:\\n\", resized_image)"
   ]
  },
  {
   "cell_type": "code",
   "execution_count": null,
   "id": "8329c097",
   "metadata": {},
   "outputs": [],
   "source": [
    "# 25. NumPy Performance Tips\n",
    "print(\"\\n--- Performance Tips ---\")\n",
    "# Avoiding loops using vectorized operations\n",
    "a = np.random.rand(1000)\n",
    "b = np.random.rand(1000)\n",
    "result_vectorized = a + b\n",
    "print(\"Vectorized result:\", result_vectorized)"
   ]
  },
  {
   "cell_type": "code",
   "execution_count": null,
   "id": "744720f9",
   "metadata": {},
   "outputs": [],
   "source": [
    "# Using in-place operations\n",
    "a += b  # In-place addition\n",
    "print(\"In-place result:\", a)"
   ]
  },
  {
   "cell_type": "code",
   "execution_count": null,
   "id": "d09ff017",
   "metadata": {},
   "outputs": [],
   "source": [
    "# Using efficient data types\n",
    "arr_int8 = np.array([1, 2, 3], dtype=np.int8)\n",
    "print(\"Int8 array:\", arr_int8)"
   ]
  },
  {
   "cell_type": "code",
   "execution_count": null,
   "id": "6a6358ef",
   "metadata": {},
   "outputs": [],
   "source": [
    "# 26. NumPy Error Handling\n",
    "print(\"\\n--- Error Handling ---\")\n",
    "try:\n",
    "    # Trying to divide by zero\n",
    "    result = np.divide(1, 0)\n",
    "except FloatingPointError as e:\n",
    "    print(\"Floating point error:\", e)"
   ]
  },
  {
   "cell_type": "code",
   "execution_count": null,
   "id": "d1157f7b",
   "metadata": {},
   "outputs": [],
   "source": [
    "# Setting error handling\n",
    "np.seterr(divide='ignore')\n",
    "result_ignore = np.divide(1, 0)\n",
    "print(\"Result with ignored division error:\", result_ignore)"
   ]
  },
  {
   "cell_type": "code",
   "execution_count": null,
   "id": "c7f1f075",
   "metadata": {},
   "outputs": [],
   "source": [
    "# 27. NumPy Profiling\n",
    "print(\"\\n--- Profiling ---\")\n",
    "import timeit"
   ]
  },
  {
   "cell_type": "code",
   "execution_count": null,
   "id": "cd073ee3",
   "metadata": {},
   "outputs": [],
   "source": [
    "# Timing a NumPy operation\n",
    "setup = \"import numpy as np; arr = np.random.rand(1000)\"\n",
    "stmt = \"np.sort(arr)\"\n",
    "execution_time = timeit.timeit(stmt, setup, number=100)\n",
    "print(\"Execution time:\", execution_time)"
   ]
  },
  {
   "cell_type": "code",
   "execution_count": null,
   "id": "71ee0c2d",
   "metadata": {},
   "outputs": [],
   "source": [
    "# Using np.show_config to display NumPy configuration\n",
    "np.show_config()"
   ]
  },
  {
   "cell_type": "code",
   "execution_count": null,
   "id": "efed4539",
   "metadata": {
    "lines_to_next_cell": 1
   },
   "outputs": [],
   "source": [
    "# 28. NumPy Custom Functions\n",
    "print(\"\\n--- Custom Functions ---\")\n",
    "def custom_function(x, y):\n",
    "    return x + y"
   ]
  },
  {
   "cell_type": "code",
   "execution_count": null,
   "id": "e1c34773",
   "metadata": {},
   "outputs": [],
   "source": [
    "# Vectorizing the function\n",
    "vectorized_func = np.vectorize(custom_function)\n",
    "result = vectorized_func(arr, arr * 2)\n",
    "print(\"Custom function result:\", result)"
   ]
  },
  {
   "cell_type": "code",
   "execution_count": null,
   "id": "5b7ec5b8",
   "metadata": {},
   "outputs": [],
   "source": [
    "# Using np.frompyfunc to create a ufunc\n",
    "ufunc_func = np.frompyfunc(custom_function, 2, 1)\n",
    "result_ufunc = ufunc_func(arr, arr * 2)\n",
    "print(\"Ufunc result:\", result_ufunc)"
   ]
  },
  {
   "cell_type": "code",
   "execution_count": null,
   "id": "ab50ba59",
   "metadata": {},
   "outputs": [],
   "source": [
    "# 29. NumPy Memory Mapping\n",
    "print(\"\\n--- Memory Mapping ---\")\n",
    "# Creating a memory-mapped array\n",
    "filename = 'mmap_array.dat'\n",
    "dtype = np.float64\n",
    "shape = (1000, 1000)\n",
    "mmapped_arr = np.memmap(filename, dtype=dtype, mode='w+', shape=shape)\n",
    "print(\"Memory-mapped array created:\", mmapped_arr)"
   ]
  },
  {
   "cell_type": "code",
   "execution_count": null,
   "id": "5bf733a9",
   "metadata": {},
   "outputs": [],
   "source": [
    "# Writing to the array\n",
    "mmapped_arr[:] = np.random.rand(*shape)\n",
    "print(\"Data written to file:\", filename)"
   ]
  },
  {
   "cell_type": "code",
   "execution_count": null,
   "id": "03fce2b2",
   "metadata": {},
   "outputs": [],
   "source": [
    "# Reading from the array\n",
    "mmapped_arr_read = np.memmap(filename, dtype=dtype, mode='r', shape=shape)\n",
    "print(\"Data read from file:\\n\", mmapped_arr_read[:5, :5])"
   ]
  },
  {
   "cell_type": "code",
   "execution_count": null,
   "id": "7be354b8",
   "metadata": {},
   "outputs": [],
   "source": [
    "# 30. NumPy Parallel Computing\n",
    "print(\"\\n--- Parallel Computing ---\")\n",
    "from numpy import linalg as LA"
   ]
  },
  {
   "cell_type": "code",
   "execution_count": null,
   "id": "2634423d",
   "metadata": {},
   "outputs": [],
   "source": [
    "# Example with multi-threaded SVD\n",
    "matrix = np.random.rand(1000, 1000)\n",
    "u, s, vh = LA.svd(matrix)\n",
    "print(\"SVD decomposition completed.\")"
   ]
  }
 ],
 "metadata": {
  "jupytext": {
   "cell_metadata_filter": "-all",
   "main_language": "python",
   "notebook_metadata_filter": "-all"
  }
 },
 "nbformat": 4,
 "nbformat_minor": 5
}
