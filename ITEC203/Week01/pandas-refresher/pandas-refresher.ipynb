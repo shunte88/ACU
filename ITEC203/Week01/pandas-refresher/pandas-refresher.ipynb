{
 "cells": [
  {
   "cell_type": "code",
   "execution_count": null,
   "id": "2cdc58e3",
   "metadata": {},
   "outputs": [],
   "source": [
    "import pandas as pd\n",
    "import numpy as np"
   ]
  },
  {
   "cell_type": "code",
   "execution_count": null,
   "id": "e2b20443",
   "metadata": {},
   "outputs": [],
   "source": [
    "# --- Introduction to Data Structures ---\n",
    "# Create a sample DataFrame with mixed data types\n",
    "data = {\n",
    "    'Name': ['Alice', 'Bob', 'Charlie', 'David', 'Eve'],\n",
    "    'Age': [25, 30, 35, 40, 45],\n",
    "    'Gender': ['Female', 'Male', 'Male', 'Male', 'Female'],\n",
    "    'Score': [85.5, 90.0, 78.5, 88.0, 92.5],\n",
    "    'Date': pd.to_datetime(['2023-01-01', '2023-01-02', '2023-01-03', '2023-01-04', '2023-01-05'])\n",
    "}\n",
    "df = pd.DataFrame(data)"
   ]
  },
  {
   "cell_type": "code",
   "execution_count": null,
   "id": "b4714964",
   "metadata": {},
   "outputs": [],
   "source": [
    "# Create a Series with custom index\n",
    "s = pd.Series([1, 2, 3, 4, 5], index=['a', 'b', 'c', 'd', 'e'])"
   ]
  },
  {
   "cell_type": "code",
   "execution_count": null,
   "id": "57cf3ccc",
   "metadata": {},
   "outputs": [],
   "source": [
    "# --- Basic Functionality & Descriptive Statistics ---\n",
    "print(\"DataFrame shape:\", df.shape)  # Display shape (rows, columns)\n",
    "print(\"Descriptive stats:\\n\", df.describe())  # Summary statistics (count, mean, etc.)"
   ]
  },
  {
   "cell_type": "code",
   "execution_count": null,
   "id": "7677f063",
   "metadata": {},
   "outputs": [],
   "source": [
    "# --- Indexing & Selecting Data ---\n",
    "print(\"First row:\\n\", df.iloc[0])  # Position-based indexing\n",
    "print(\"Names:\", df['Name'])  # Column selection\n",
    "print(\"Scores > 85:\\n\", df[df['Score'] > 85])  # Boolean indexing"
   ]
  },
  {
   "cell_type": "code",
   "execution_count": null,
   "id": "558ca78d",
   "metadata": {},
   "outputs": [],
   "source": [
    "# --- Series Operations ---\n",
    "print(\"Series:\", s)\n",
    "print(\"Sliced Series:\", s['b':'d'])  # Label-based slicing\n",
    "print(\"Series index:\", s.index, \"values:\", s.values)  # Attributes\n",
    "s2 = s * 2  # Arithmetic operation\n",
    "print(\"Series * 2:\", s2)\n",
    "print(\"Series to dict:\", s.to_dict())  # Convert to dictionary"
   ]
  },
  {
   "cell_type": "code",
   "execution_count": null,
   "id": "9fe549e8",
   "metadata": {},
   "outputs": [],
   "source": [
    "# --- DataFrame Modifications ---\n",
    "df['Age'] += 1  # Modify 'Age' column\n",
    "print(\"Modified Age:\\n\", df)\n",
    "df_dropped = df.drop(0)  # Remove row with index 0\n",
    "print(\"After dropping row 0:\\n\", df_dropped)\n",
    "df['Score'] += 5  # Arithmetic operation on DataFrame\n",
    "print(\"Score +5:\\n\", df)"
   ]
  },
  {
   "cell_type": "markdown",
   "id": "ca59e631",
   "metadata": {},
   "source": [
    "--- IO Tools (Syntax Examples) ---\n",
    "df.to_csv('data.csv')  # Write to CSV\n",
    "df_csv = pd.read_csv('data.csv')  # Read from CSV\n",
    "df.to_json('data.json')  # Write to JSON\n",
    "df_json = pd.read_json('data.json')  # Read from JSON"
   ]
  },
  {
   "cell_type": "code",
   "execution_count": null,
   "id": "805c75b0",
   "metadata": {},
   "outputs": [],
   "source": [
    "# --- Sorting & Reindexing ---\n",
    "df_sorted = df.sort_values(by='Score', ascending=False)  # Sort by 'Score'\n",
    "print(\"Sorted by Score:\\n\", df_sorted)\n",
    "df_reindexed = df.reindex([4, 3, 2, 1, 0])  # Reorder rows\n",
    "print(\"Reindexed:\\n\", df_reindexed)"
   ]
  },
  {
   "cell_type": "code",
   "execution_count": null,
   "id": "835a359b",
   "metadata": {},
   "outputs": [],
   "source": [
    "# --- Concatenation ---\n",
    "df2 = pd.DataFrame({'Name': ['Frank'], 'Age': [50], 'Gender': ['Male'], 'Score': [80.0], 'Date': pd.to_datetime(['2023-01-06'])})\n",
    "df_concat = pd.concat([df, df2], ignore_index=True)  # Append DataFrames\n",
    "print(\"Concatenated:\\n\", df_concat)"
   ]
  },
  {
   "cell_type": "code",
   "execution_count": null,
   "id": "8c523e83",
   "metadata": {},
   "outputs": [],
   "source": [
    "# --- Statistical Functions ---\n",
    "print(\"Mean Age:\", df['Age'].mean())  # Average age\n",
    "print(\"Max Score:\", df['Score'].max())  # Maximum score"
   ]
  },
  {
   "cell_type": "code",
   "execution_count": null,
   "id": "bf1da84f",
   "metadata": {
    "lines_to_next_cell": 1
   },
   "outputs": [],
   "source": [
    "# --- Working with Text Data ---\n",
    "df['Name_lower'] = df['Name'].str.lower()  # Convert names to lowercase\n",
    "print(\"Lowercased names:\\n\", df)"
   ]
  },
  {
   "cell_type": "code",
   "execution_count": null,
   "id": "14b5115b",
   "metadata": {},
   "outputs": [],
   "source": [
    "# --- Function Application ---\n",
    "def categorize_age(age): return 'Young' if age < 35 else 'Senior'\n",
    "df['Age_Group'] = df['Age'].apply(categorize_age)  # Apply custom function\n",
    "print(\"With Age_Group:\\n\", df)"
   ]
  },
  {
   "cell_type": "code",
   "execution_count": null,
   "id": "e468d0f4",
   "metadata": {},
   "outputs": [],
   "source": [
    "# --- Window Functions ---\n",
    "df['Score_Rolling'] = df['Score'].rolling(window=2).mean()  # Rolling mean\n",
    "print(\"Rolling mean:\\n\", df)"
   ]
  },
  {
   "cell_type": "code",
   "execution_count": null,
   "id": "88786bfd",
   "metadata": {},
   "outputs": [],
   "source": [
    "# --- MultiIndex ---\n",
    "index = pd.MultiIndex.from_arrays([['A', 'A', 'B', 'B'], ['one', 'two', 'one', 'two']], names=('Letter', 'Number'))\n",
    "df_multi = pd.DataFrame({'Value': [1, 2, 3, 4]}, index=index)\n",
    "print(\"MultiIndex DF:\\n\", df_multi)\n",
    "print(\"Select 'A':\\n\", df_multi.loc['A'])  # MultiIndex indexing"
   ]
  },
  {
   "cell_type": "code",
   "execution_count": null,
   "id": "f931ee7a",
   "metadata": {},
   "outputs": [],
   "source": [
    "# --- Binary Operations & Boolean Masking ---\n",
    "df3 = pd.DataFrame({'Age': [26, 31, 36, 41, 46]}, index=[0, 1, 2, 3, 4])\n",
    "df['Age_Diff'] = df['Age'] - df3['Age']  # Binary subtraction\n",
    "print(\"Age difference:\\n\", df)\n",
    "print(\"Score > 90:\\n\", df[df['Score'] > 90])  # Boolean mask"
   ]
  },
  {
   "cell_type": "code",
   "execution_count": null,
   "id": "45a345f0",
   "metadata": {},
   "outputs": [],
   "source": [
    "# --- Data Reshaping & Pivoting ---\n",
    "df_pivot = pd.DataFrame({'Date': ['2023-01-01', '2023-01-01', '2023-01-02', '2023-01-02'],\n",
    "                         'Category': ['A', 'B', 'A', 'B'], 'Value': [10, 20, 30, 40]})\n",
    "df_pivoted = df_pivot.pivot(index='Date', columns='Category', values='Value')  # Pivot data\n",
    "print(\"Pivoted:\\n\", df_pivoted)\n",
    "df_stacked = df_pivoted.stack()  # Stack columns into rows\n",
    "print(\"Stacked:\\n\", df_stacked)\n",
    "df_melted = pd.melt(df, id_vars=['Name'], value_vars=['Age', 'Score'])  # Melt wide to long\n",
    "print(\"Melted:\\n\", df_melted)"
   ]
  },
  {
   "cell_type": "code",
   "execution_count": null,
   "id": "52e5b7cb",
   "metadata": {},
   "outputs": [],
   "source": [
    "# --- Categorical Data ---\n",
    "df['Gender'] = pd.Categorical(df['Gender'])  # Convert to categorical\n",
    "print(\"Gender categories:\", df['Gender'].unique())"
   ]
  },
  {
   "cell_type": "code",
   "execution_count": null,
   "id": "373eac7d",
   "metadata": {},
   "outputs": [],
   "source": [
    "# --- Handling Missing Data ---\n",
    "df.loc[2, 'Score'] = np.nan  # Introduce NaN\n",
    "print(\"With NaN:\\n\", df)\n",
    "df_filled = df.fillna({'Score': df['Score'].mean()})  # Fill NaN with mean\n",
    "print(\"NaN filled:\\n\", df_filled)\n",
    "df_dropped_na = df.dropna()  # Drop rows with NaN\n",
    "print(\"NaN dropped:\\n\", df_dropped_na)"
   ]
  },
  {
   "cell_type": "code",
   "execution_count": null,
   "id": "610c5592",
   "metadata": {},
   "outputs": [],
   "source": [
    "# --- Handling Duplicates ---\n",
    "df_duplicates = pd.concat([df, df.iloc[0:1]], ignore_index=True)  # Add duplicate row\n",
    "print(\"With duplicates:\\n\", df_duplicates)\n",
    "df_no_duplicates = df_duplicates.drop_duplicates()  # Remove duplicates\n",
    "print(\"No duplicates:\\n\", df_no_duplicates)"
   ]
  },
  {
   "cell_type": "code",
   "execution_count": null,
   "id": "0ebc1c9e",
   "metadata": {},
   "outputs": [],
   "source": [
    "# --- Grouping & Aggregation ---\n",
    "grouped = df.groupby('Gender')  # Group by 'Gender'\n",
    "print(\"Mean Score by Gender:\\n\", grouped['Score'].mean())"
   ]
  },
  {
   "cell_type": "code",
   "execution_count": null,
   "id": "19cd3eeb",
   "metadata": {},
   "outputs": [],
   "source": [
    "# --- Time-series Data ---\n",
    "df.set_index('Date', inplace=True)  # Use 'Date' as index\n",
    "print(\"Time-series DF:\\n\", df)"
   ]
  },
  {
   "cell_type": "markdown",
   "id": "881669a9",
   "metadata": {},
   "source": [
    "--- Visualization (Syntax Example) ---\n",
    "df['Score'].plot(kind='bar')  # Bar plot (requires matplotlib)"
   ]
  }
 ],
 "metadata": {
  "jupytext": {
   "cell_metadata_filter": "-all",
   "main_language": "python",
   "notebook_metadata_filter": "-all"
  }
 },
 "nbformat": 4,
 "nbformat_minor": 5
}
