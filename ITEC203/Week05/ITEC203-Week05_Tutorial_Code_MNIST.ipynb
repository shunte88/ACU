{
  "cells": [
    {
      "cell_type": "markdown",
      "metadata": {
        "id": "LWFB-EtZR8sz"
      },
      "source": [
        "# Explore MNIST Dataset"
      ]
    },
    {
      "cell_type": "markdown",
      "metadata": {
        "id": "iNlhnS74R8s0"
      },
      "source": [
        "### Load Mnist dataset into jupyter notebook, check its keys."
      ]
    },
    {
      "cell_type": "code",
      "execution_count": 2,
      "metadata": {
        "colab": {
          "base_uri": "https://localhost:8080/"
        },
        "id": "LGyCjmmIR8s0",
        "outputId": "672fbc10-17fa-4273-9446-4a017cc7b9d5"
      },
      "outputs": [
        {
          "output_type": "stream",
          "name": "stderr",
          "text": [
            "/usr/local/lib/python3.10/dist-packages/sklearn/datasets/_openml.py:968: FutureWarning: The default value of `parser` will change from `'liac-arff'` to `'auto'` in 1.4. You can set `parser='auto'` to silence this warning. Therefore, an `ImportError` will be raised from 1.4 if the dataset is dense and pandas is not installed. Note that the pandas parser may return different data types. See the Notes Section in fetch_openml's API doc for details.\n",
            "  warn(\n"
          ]
        }
      ],
      "source": [
        "from sklearn.datasets import fetch_openml\n",
        "mnist = fetch_openml('mnist_784',version = 1)"
      ]
    },
    {
      "cell_type": "code",
      "execution_count": 3,
      "metadata": {
        "colab": {
          "base_uri": "https://localhost:8080/"
        },
        "id": "YV2D2saGR8s0",
        "outputId": "63dfa527-54f0-45b1-ec55-ff724a96af4c"
      },
      "outputs": [
        {
          "output_type": "execute_result",
          "data": {
            "text/plain": [
              "dict_keys(['data', 'target', 'frame', 'categories', 'feature_names', 'target_names', 'DESCR', 'details', 'url'])"
            ]
          },
          "metadata": {},
          "execution_count": 3
        }
      ],
      "source": [
        "mnist.keys()"
      ]
    },
    {
      "cell_type": "code",
      "execution_count": 4,
      "metadata": {
        "id": "OcstSVdZR8s1"
      },
      "outputs": [],
      "source": [
        "X,y = mnist['data'], mnist['target']"
      ]
    },
    {
      "cell_type": "code",
      "execution_count": 5,
      "metadata": {
        "colab": {
          "base_uri": "https://localhost:8080/"
        },
        "id": "4Y8c1IPHR8s1",
        "outputId": "dc532c2b-2c17-444b-e3b4-a513b56ba311"
      },
      "outputs": [
        {
          "output_type": "execute_result",
          "data": {
            "text/plain": [
              "(70000, 784)"
            ]
          },
          "metadata": {},
          "execution_count": 5
        }
      ],
      "source": [
        "X.shape # 70000 images, 784 features"
      ]
    },
    {
      "cell_type": "code",
      "execution_count": 6,
      "metadata": {
        "id": "Y6p1FHo-R8s1"
      },
      "outputs": [],
      "source": [
        "import numpy as np\n",
        "uni_feature, feature_counts = np.unique(X, return_counts = True)"
      ]
    },
    {
      "cell_type": "code",
      "execution_count": 7,
      "metadata": {
        "colab": {
          "base_uri": "https://localhost:8080/"
        },
        "id": "CUPvBjf2R8s1",
        "outputId": "922d7b7f-0058-435b-ce7f-d6f6484c3a29"
      },
      "outputs": [
        {
          "output_type": "execute_result",
          "data": {
            "text/plain": [
              "array([  0.,   1.,   2.,   3.,   4.,   5.,   6.,   7.,   8.,   9.,  10.,\n",
              "        11.,  12.,  13.,  14.,  15.,  16.,  17.,  18.,  19.,  20.,  21.,\n",
              "        22.,  23.,  24.,  25.,  26.,  27.,  28.,  29.,  30.,  31.,  32.,\n",
              "        33.,  34.,  35.,  36.,  37.,  38.,  39.,  40.,  41.,  42.,  43.,\n",
              "        44.,  45.,  46.,  47.,  48.,  49.,  50.,  51.,  52.,  53.,  54.,\n",
              "        55.,  56.,  57.,  58.,  59.,  60.,  61.,  62.,  63.,  64.,  65.,\n",
              "        66.,  67.,  68.,  69.,  70.,  71.,  72.,  73.,  74.,  75.,  76.,\n",
              "        77.,  78.,  79.,  80.,  81.,  82.,  83.,  84.,  85.,  86.,  87.,\n",
              "        88.,  89.,  90.,  91.,  92.,  93.,  94.,  95.,  96.,  97.,  98.,\n",
              "        99., 100., 101., 102., 103., 104., 105., 106., 107., 108., 109.,\n",
              "       110., 111., 112., 113., 114., 115., 116., 117., 118., 119., 120.,\n",
              "       121., 122., 123., 124., 125., 126., 127., 128., 129., 130., 131.,\n",
              "       132., 133., 134., 135., 136., 137., 138., 139., 140., 141., 142.,\n",
              "       143., 144., 145., 146., 147., 148., 149., 150., 151., 152., 153.,\n",
              "       154., 155., 156., 157., 158., 159., 160., 161., 162., 163., 164.,\n",
              "       165., 166., 167., 168., 169., 170., 171., 172., 173., 174., 175.,\n",
              "       176., 177., 178., 179., 180., 181., 182., 183., 184., 185., 186.,\n",
              "       187., 188., 189., 190., 191., 192., 193., 194., 195., 196., 197.,\n",
              "       198., 199., 200., 201., 202., 203., 204., 205., 206., 207., 208.,\n",
              "       209., 210., 211., 212., 213., 214., 215., 216., 217., 218., 219.,\n",
              "       220., 221., 222., 223., 224., 225., 226., 227., 228., 229., 230.,\n",
              "       231., 232., 233., 234., 235., 236., 237., 238., 239., 240., 241.,\n",
              "       242., 243., 244., 245., 246., 247., 248., 249., 250., 251., 252.,\n",
              "       253., 254., 255.])"
            ]
          },
          "metadata": {},
          "execution_count": 7
        }
      ],
      "source": [
        "uni_feature"
      ]
    },
    {
      "cell_type": "code",
      "execution_count": 8,
      "metadata": {
        "colab": {
          "base_uri": "https://localhost:8080/"
        },
        "id": "4HcHq6y7R8s2",
        "outputId": "475ca432-f549-4a64-d8b6-6e4ac7f99a46"
      },
      "outputs": [
        {
          "output_type": "execute_result",
          "data": {
            "text/plain": [
              "array([44374625,    26728,    39409,    42140,    44638,    45783,\n",
              "          43928,    45443,    35830,    44646,    41337,    41852,\n",
              "          35095,    46908,    31375,    33576,    33904,    32028,\n",
              "          31433,    40342,    35068,    41593,    31524,    26595,\n",
              "          30189,    34988,    28311,    27909,    29532,    42988,\n",
              "          26731,    30486,    33695,    18190,    23120,    24957,\n",
              "          25783,    28869,    30402,    21235,    23944,    31578,\n",
              "          25972,    24773,    22132,    24563,    20209,    28249,\n",
              "          23413,    20753,    28071,    29019,    16907,    22506,\n",
              "          21192,    21101,    27306,    36863,    16663,    21085,\n",
              "          21018,    21058,    23003,    27765,    54942,    18578,\n",
              "          20424,    18579,    19026,    19594,    22623,    21464,\n",
              "          20186,    22420,    16124,    18480,    20787,    15861,\n",
              "          20659,    21058,    18293,    19456,    24776,    17953,\n",
              "          31355,    29613,    29792,    14806,    18530,    20523,\n",
              "          14727,    20800,    21614,    20116,    19394,    19053,\n",
              "          20715,    16560,    19543,    20641,    17765,    16558,\n",
              "          25597,    17305,    19133,    17282,    21345,    19072,\n",
              "          20935,    21236,    18392,    18677,    21287,    23416,\n",
              "          28536,    17565,    22521,    17184,    19722,    18056,\n",
              "          19091,    20238,    19164,    20830,    16083,    19171,\n",
              "          19622,    19034,    88212,    19205,    20929,    22480,\n",
              "          21919,    17538,    18046,    19409,    18808,    20463,\n",
              "          20127,    22752,    20439,    31360,    21099,    18644,\n",
              "          21942,    21271,    18595,    19498,    19852,    19138,\n",
              "          19788,    25328,    20884,    18168,    20918,    21910,\n",
              "          21801,    17171,    19359,    18526,    21126,    20055,\n",
              "          21017,    21475,    17944,    17943,    17294,    16741,\n",
              "          29240,    29807,    34442,    19596,    21628,    22736,\n",
              "          19670,    19245,    20121,    19620,    19718,    21100,\n",
              "          20002,    19994,    18590,    23499,    20988,    20313,\n",
              "          19909,    19432,    20071,    21768,    23669,    61004,\n",
              "          23244,    21971,    21860,    23267,    26425,    26885,\n",
              "          30216,    21939,    20984,    20583,    22845,    33993,\n",
              "          21360,    22556,    25576,    24434,    21073,    22860,\n",
              "          25532,    26363,    26948,    29633,    30041,    28148,\n",
              "          25447,    29002,    25542,    22824,    23980,    28755,\n",
              "          30039,    30623,    28083,    31781,    40967,    29575,\n",
              "          34247,    27480,    31609,    34501,    35334,    43190,\n",
              "          38885,    33936,    36793,    34582,    31369,    31951,\n",
              "          38903,    41426,    36493,    43237,    43373,    41168,\n",
              "          39400,    44170,    41085,    45893,    66245,   131401,\n",
              "         772500,  1775038,   937774,   371117])"
            ]
          },
          "metadata": {},
          "execution_count": 8
        }
      ],
      "source": [
        "feature_counts"
      ]
    },
    {
      "cell_type": "code",
      "execution_count": 9,
      "metadata": {
        "colab": {
          "base_uri": "https://localhost:8080/",
          "height": 462
        },
        "id": "S7QMGTe3R8s2",
        "outputId": "61cb9f6a-6a6f-48cb-ef73-0ccb96884434"
      },
      "outputs": [
        {
          "output_type": "execute_result",
          "data": {
            "text/plain": [
              "<BarContainer object of 256 artists>"
            ]
          },
          "metadata": {},
          "execution_count": 9
        },
        {
          "output_type": "display_data",
          "data": {
            "text/plain": [
              "<Figure size 640x480 with 1 Axes>"
            ],
            "image/png": "[encoded data removed]"
          },
          "metadata": {}
        }
      ],
      "source": [
        "import matplotlib.pyplot as plt\n",
        "plt.bar(uni_feature, feature_counts)"
      ]
    },
    {
      "cell_type": "code",
      "execution_count": 10,
      "metadata": {
        "colab": {
          "base_uri": "https://localhost:8080/",
          "height": 489
        },
        "id": "r0Xx5rYxR8s2",
        "outputId": "baa95bb7-ab69-44ad-8cbe-151ea49e0ba5"
      },
      "outputs": [
        {
          "output_type": "execute_result",
          "data": {
            "text/plain": [
              "Text(0.5, 1.0, 'Features in MNIST 784 dataset')"
            ]
          },
          "metadata": {},
          "execution_count": 10
        },
        {
          "output_type": "display_data",
          "data": {
            "text/plain": [
              "<Figure size 640x480 with 1 Axes>"
            ],
            "image/png": "[encoded data removed]"
          },
          "metadata": {}
        }
      ],
      "source": [
        "plt.bar(uni_feature[1:250], feature_counts[1:250])\n",
        "#plt.xticks(uni_feature)\n",
        "plt.xlabel(\"Features: value at 1 to 249\")\n",
        "plt.ylabel(\"Quantity\")\n",
        "plt.title(\"Features in MNIST 784 dataset\")"
      ]
    },
    {
      "cell_type": "markdown",
      "metadata": {
        "id": "7qJqC7lhR8s2"
      },
      "source": [
        "Check labels"
      ]
    },
    {
      "cell_type": "code",
      "execution_count": 11,
      "metadata": {
        "id": "7qjhovo8R8s2"
      },
      "outputs": [],
      "source": [
        "import numpy as np\n",
        "\n",
        "unique, counts = np.unique(y, return_counts=True)"
      ]
    },
    {
      "cell_type": "code",
      "execution_count": 12,
      "metadata": {
        "colab": {
          "base_uri": "https://localhost:8080/"
        },
        "id": "cQTBKPpsR8s2",
        "outputId": "0e4c2f32-ce24-42f3-f19a-af5df5d5b8c5"
      },
      "outputs": [
        {
          "output_type": "execute_result",
          "data": {
            "text/plain": [
              "array(['0', '1', '2', '3', '4', '5', '6', '7', '8', '9'], dtype=object)"
            ]
          },
          "metadata": {},
          "execution_count": 12
        }
      ],
      "source": [
        "unique"
      ]
    },
    {
      "cell_type": "code",
      "execution_count": 13,
      "metadata": {
        "colab": {
          "base_uri": "https://localhost:8080/"
        },
        "id": "i8vcNzOoR8s2",
        "outputId": "04977f5b-a6d6-4337-f3c5-58b02c24d4cb"
      },
      "outputs": [
        {
          "output_type": "execute_result",
          "data": {
            "text/plain": [
              "array([6903, 7877, 6990, 7141, 6824, 6313, 6876, 7293, 6825, 6958])"
            ]
          },
          "metadata": {},
          "execution_count": 13
        }
      ],
      "source": [
        "counts"
      ]
    },
    {
      "cell_type": "code",
      "execution_count": 14,
      "metadata": {
        "colab": {
          "base_uri": "https://localhost:8080/",
          "height": 489
        },
        "id": "Gj1_Nk-JR8s2",
        "outputId": "2a6c0618-1e8b-4c42-d5f2-2a782d0eaa88"
      },
      "outputs": [
        {
          "output_type": "execute_result",
          "data": {
            "text/plain": [
              "Text(0.5, 1.0, 'Labels in MNIST 784 dataset')"
            ]
          },
          "metadata": {},
          "execution_count": 14
        },
        {
          "output_type": "display_data",
          "data": {
            "text/plain": [
              "<Figure size 640x480 with 1 Axes>"
            ],
            "image/png": "[encoded data removed]"
          },
          "metadata": {}
        }
      ],
      "source": [
        "plt.bar(unique, counts)\n",
        "plt.xlabel(\"Label\")\n",
        "plt.ylabel(\"Quantity\")\n",
        "plt.title(\"Labels in MNIST 784 dataset\")  # They are discrete type"
      ]
    },
    {
      "cell_type": "markdown",
      "metadata": {
        "id": "y_w-SALHR8s3"
      },
      "source": [
        "The first digit"
      ]
    },
    {
      "cell_type": "code",
      "execution_count": 17,
      "metadata": {
        "colab": {
          "base_uri": "https://localhost:8080/"
        },
        "id": "uc1obm2TR8s3",
        "outputId": "133406f2-2151-4b4d-d399-eca455e0523b"
      },
      "outputs": [
        {
          "output_type": "execute_result",
          "data": {
            "text/plain": [
              "(784,)"
            ]
          },
          "metadata": {},
          "execution_count": 17
        }
      ],
      "source": [
        "some_digit = X.iloc[0]# a row\n",
        "some_digit.shape"
      ]
    },
    {
      "cell_type": "code",
      "execution_count": 18,
      "metadata": {
        "id": "SbattKlrR8s3"
      },
      "outputs": [],
      "source": [
        "import numpy as np\n",
        "import matplotlib.pyplot as plt\n",
        "# Assuming `some_digit` is a Series from your previous operations\n",
        "some_digit_np = some_digit.to_numpy()  # Convert Series to NumPy array\n",
        "some_digit_image = some_digit_np.reshape(28, 28)  # Now we can reshape it"
      ]
    },
    {
      "cell_type": "code",
      "execution_count": 19,
      "metadata": {
        "colab": {
          "base_uri": "https://localhost:8080/",
          "height": 406
        },
        "id": "1XBSMLRiR8s3",
        "outputId": "85bea604-b812-44f3-b4a1-29b0ab317bf4"
      },
      "outputs": [
        {
          "output_type": "display_data",
          "data": {
            "text/plain": [
              "<Figure size 640x480 with 1 Axes>"
            ],
            "image/png": "[encoded data removed]"
          },
          "metadata": {}
        }
      ],
      "source": [
        "# Now we can plot it\n",
        "plt.imshow(some_digit_image, cmap='binary')\n",
        "plt.axis(\"off\")\n",
        "plt.show()"
      ]
    },
    {
      "cell_type": "markdown",
      "metadata": {
        "id": "PkOYp8B4R8s3"
      },
      "source": [
        "Check feature values of one digit image"
      ]
    },
    {
      "cell_type": "code",
      "execution_count": 24,
      "metadata": {
        "id": "dTGtGTHpR8s3"
      },
      "outputs": [],
      "source": [
        "uni_f_digit, f_counts_digit = np.unique(some_digit, return_counts = True)"
      ]
    },
    {
      "cell_type": "code",
      "execution_count": 25,
      "metadata": {
        "colab": {
          "base_uri": "https://localhost:8080/"
        },
        "id": "DjcRJeTYR8s3",
        "outputId": "31f350fb-fd68-4c41-fff4-d05016d9680b"
      },
      "outputs": [
        {
          "output_type": "execute_result",
          "data": {
            "text/plain": [
              "array([  0.,   1.,   2.,   3.,   9.,  11.,  14.,  16.,  18.,  23.,  24.,\n",
              "        25.,  26.,  27.,  30.,  35.,  36.,  39.,  43.,  45.,  46.,  49.,\n",
              "        55.,  56.,  64.,  66.,  70.,  78.,  80.,  81.,  82.,  90.,  93.,\n",
              "        94., 107., 108., 114., 119., 126., 127., 130., 132., 133., 135.,\n",
              "       136., 139., 148., 150., 154., 156., 160., 166., 170., 171., 172.,\n",
              "       175., 182., 183., 186., 187., 190., 195., 198., 201., 205., 207.,\n",
              "       212., 213., 219., 221., 225., 226., 229., 238., 240., 241., 242.,\n",
              "       244., 247., 249., 250., 251., 252., 253., 255.])"
            ]
          },
          "metadata": {},
          "execution_count": 25
        }
      ],
      "source": [
        "uni_f_digit"
      ]
    },
    {
      "cell_type": "code",
      "execution_count": 26,
      "metadata": {
        "colab": {
          "base_uri": "https://localhost:8080/"
        },
        "id": "6EUQetSXR8s3",
        "outputId": "0656b550-de2b-4b1f-a798-d23f2b95ba29"
      },
      "outputs": [
        {
          "output_type": "execute_result",
          "data": {
            "text/plain": [
              "array([618,   2,   3,   1,   1,   3,   1,   2,   5,   1,   1,   1,   1,\n",
              "         1,   1,   1,   1,   2,   1,   1,   1,   1,   1,   1,   2,   1,\n",
              "         1,   1,   2,   2,   2,   1,   2,   1,   1,   1,   1,   1,   1,\n",
              "         1,   1,   1,   1,   1,   2,   1,   1,   1,   3,   1,   1,   1,\n",
              "         1,   1,   2,   1,   2,   1,   1,   1,   2,   2,   2,   1,   1,\n",
              "         1,   1,   1,   2,   1,   2,   1,   1,   1,   1,   2,   1,   1,\n",
              "         2,   2,   1,   1,   1,  54,   1])"
            ]
          },
          "metadata": {},
          "execution_count": 26
        }
      ],
      "source": [
        "f_counts_digit"
      ]
    },
    {
      "cell_type": "code",
      "execution_count": 27,
      "metadata": {
        "colab": {
          "base_uri": "https://localhost:8080/",
          "height": 489
        },
        "id": "ijmK0Dj6R8s3",
        "outputId": "48e4d4c3-0761-4539-d005-dafe3afdee37"
      },
      "outputs": [
        {
          "output_type": "execute_result",
          "data": {
            "text/plain": [
              "Text(0.5, 1.0, 'Features in one digit image')"
            ]
          },
          "metadata": {},
          "execution_count": 27
        },
        {
          "output_type": "display_data",
          "data": {
            "text/plain": [
              "<Figure size 640x480 with 1 Axes>"
            ],
            "image/png": "[encoded data removed]"
          },
          "metadata": {}
        }
      ],
      "source": [
        "plt.bar(uni_f_digit[1:], f_counts_digit[1:])\n",
        "plt.xlabel(\"Features: 1-255\")\n",
        "plt.ylabel(\"Quantity\")\n",
        "plt.title(\"Features in one digit image\")"
      ]
    },
    {
      "cell_type": "markdown",
      "metadata": {
        "id": "UWeFwDhCR8s3"
      },
      "source": [
        "# PCA with Numpy"
      ]
    },
    {
      "cell_type": "markdown",
      "metadata": {
        "id": "6uzQlBJKR8s3"
      },
      "source": [
        "### Principal Components"
      ]
    },
    {
      "cell_type": "code",
      "execution_count": 28,
      "metadata": {
        "id": "TnEYim4jR8s3"
      },
      "outputs": [],
      "source": [
        "X_centered = X - X.mean(axis = 0) # Centering\n",
        "# ref: Why centering https://stats.stackexchange.com/questions/189822/how-does-centering-make-a-difference-in-pca-for-svd-and-eigen-decomposition"
      ]
    },
    {
      "cell_type": "code",
      "execution_count": null,
      "metadata": {
        "id": "LWSuI4xlR8s4"
      },
      "outputs": [],
      "source": [
        "U, s, Vt = np.linalg.svd(X_centered)\n",
        "#The first two principal components\n",
        "c1 = Vt.T[:, 0]\n",
        "c2 = Vt.T[:, 1]"
      ]
    },
    {
      "cell_type": "markdown",
      "metadata": {
        "id": "Aok8bXPqR8s4"
      },
      "source": [
        "### Projecting Down to 2 Dimensions"
      ]
    },
    {
      "cell_type": "code",
      "execution_count": null,
      "metadata": {
        "id": "C2DJ1PxbR8s4"
      },
      "outputs": [],
      "source": [
        "# projects data onto the plane defined by the first two pricipal components\n",
        "W2 = Vt.Vt.T[:,:2]\n",
        "X2D = X_centered.dot(W2)"
      ]
    },
    {
      "cell_type": "markdown",
      "metadata": {
        "id": "o_nhkF-xR8s4"
      },
      "source": [
        "# PCA with Scikit-Learn"
      ]
    },
    {
      "cell_type": "markdown",
      "metadata": {
        "id": "5gxEN2FOR8s4"
      },
      "source": [
        "## Projecting Down to 2 Dimensions"
      ]
    },
    {
      "cell_type": "code",
      "execution_count": null,
      "metadata": {
        "id": "7lalia9dR8s4"
      },
      "outputs": [],
      "source": [
        "from sklearn.decomposition import PCA\n",
        "\n",
        "pca_2 = PCA(n_components = 2)\n",
        "X2D = pca_2.fit_transform(X)"
      ]
    },
    {
      "cell_type": "code",
      "execution_count": null,
      "metadata": {
        "id": "YBCnNK3oR8s4",
        "outputId": "29d2eade-a5f7-4164-9f67-73bf7c0099b6"
      },
      "outputs": [
        {
          "data": {
            "text/plain": [
              "array([0.09746116, 0.07155445])"
            ]
          },
          "execution_count": 24,
          "metadata": {},
          "output_type": "execute_result"
        }
      ],
      "source": [
        "pca_2.explained_variance_ratio_"
      ]
    },
    {
      "cell_type": "markdown",
      "metadata": {
        "id": "eO2lS1ZzR8s4"
      },
      "source": [
        "### Set the ratio of variance to perserve"
      ]
    },
    {
      "cell_type": "code",
      "execution_count": null,
      "metadata": {
        "id": "Bu76cUbjR8s4"
      },
      "outputs": [],
      "source": [
        "pca_95var = PCA(n_components = 0.95)\n",
        "X_reduced_95var = pca_95var.fit_transform(X)"
      ]
    },
    {
      "cell_type": "markdown",
      "metadata": {
        "id": "LtrWCCnRR8s4"
      },
      "source": [
        "## PCA for Compression"
      ]
    },
    {
      "cell_type": "markdown",
      "metadata": {
        "id": "cWYbaH2ZR8s5"
      },
      "source": [
        "Compress the MNIST dataset from 784 diemnsions down to 154 dimensions."
      ]
    },
    {
      "cell_type": "code",
      "execution_count": null,
      "metadata": {
        "id": "7eKjK6z1R8tJ"
      },
      "outputs": [],
      "source": [
        "from sklearn.decomposition import PCA\n",
        "pca = PCA(n_components = 154)"
      ]
    },
    {
      "cell_type": "code",
      "execution_count": null,
      "metadata": {
        "id": "7BuXZxv5R8tJ"
      },
      "outputs": [],
      "source": [
        "X_reduced = pca.fit_transform(X)"
      ]
    },
    {
      "cell_type": "markdown",
      "metadata": {
        "id": "Ed1BHftZR8tJ"
      },
      "source": [
        "Decompress it back to 784 dimensions:"
      ]
    },
    {
      "cell_type": "code",
      "execution_count": null,
      "metadata": {
        "id": "elgbV0wWR8tJ"
      },
      "outputs": [],
      "source": [
        "X_recovered = pca.inverse_transform(X_reduced)"
      ]
    },
    {
      "cell_type": "markdown",
      "metadata": {
        "id": "2XFdo6YsR8tJ"
      },
      "source": [
        "Compare them:"
      ]
    },
    {
      "cell_type": "code",
      "execution_count": null,
      "metadata": {
        "id": "Ri3Or_dAR8tJ"
      },
      "outputs": [],
      "source": [
        "num_loc = 2\n",
        "original_digit = X[num_loc].reshape(28,28)\n",
        "recovered_digit = X_recovered[num_loc].reshape(28,28)"
      ]
    },
    {
      "cell_type": "code",
      "execution_count": null,
      "metadata": {
        "id": "hCkVP2dSR8tJ",
        "outputId": "9303f67a-392a-4019-94bd-35ae85ef9864"
      },
      "outputs": [
        {
          "data": {
            "text/plain": [
              "(154,)"
            ]
          },
          "execution_count": 30,
          "metadata": {},
          "output_type": "execute_result"
        }
      ],
      "source": [
        "X_reduced[num_loc].shape"
      ]
    },
    {
      "cell_type": "code",
      "execution_count": null,
      "metadata": {
        "id": "Jof9FWuCR8tJ",
        "outputId": "296330a6-140e-4edd-9dfa-f4363d028f51"
      },
      "outputs": [
        {
          "data": {
            "text/plain": [
              "Text(0.5, 1.0, 'Recovered digit')"
            ]
          },
          "execution_count": 31,
          "metadata": {},
          "output_type": "execute_result"
        },
        {
          "data": {
            "image/png": "[encoded data removed]",
            "text/plain": [
              "<Figure size 432x288 with 2 Axes>"
            ]
          },
          "metadata": {
            "needs_background": "light"
          },
          "output_type": "display_data"
        }
      ],
      "source": [
        "# ref : https://matplotlib.org/stable/gallery/subplots_axes_and_figures/subplots_demo.html\n",
        "fig, (ax1, ax2) = plt.subplots(1, 2)\n",
        "\n",
        "ax1.imshow(original_digit, cmap = 'binary')\n",
        "ax1.set_title('Original digit')\n",
        "\n",
        "ax2.imshow(recovered_digit, cmap = 'binary')\n",
        "ax2.set_title('Recovered digit')\n"
      ]
    },
    {
      "cell_type": "code",
      "execution_count": null,
      "metadata": {
        "id": "4cWhvZ38R8tJ"
      },
      "outputs": [],
      "source": []
    }
  ],
  "metadata": {
    "kernelspec": {
      "display_name": "Python 3",
      "language": "python",
      "name": "python3"
    },
    "language_info": {
      "codemirror_mode": {
        "name": "ipython",
        "version": 3
      },
      "file_extension": ".py",
      "mimetype": "text/x-python",
      "name": "python",
      "nbconvert_exporter": "python",
      "pygments_lexer": "ipython3",
      "version": "3.8.5"
    },
    "colab": {
      "provenance": []
    }
  },
  "nbformat": 4,
  "nbformat_minor": 0
}