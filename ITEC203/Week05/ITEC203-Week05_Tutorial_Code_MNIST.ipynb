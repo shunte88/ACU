{
  "cells": [
    {
      "cell_type": "markdown",
      "metadata": {
        "id": "LWFB-EtZR8sz"
      },
      "source": [
        "# Explore MNIST Dataset"
      ]
    },
    {
      "cell_type": "markdown",
      "source": [
        "### What is mnist 784 dataset\n",
        "\n",
        "See: https://colab.research.google.com/drive/1aVDAHZkgkxT_bj30cEpUH3I9hRP4ZBCw#scrollTo=mFbwuiu-NEpO"
      ],
      "metadata": {
        "id": "VxzUx6Gtd-Ig"
      }
    },
    {
      "cell_type": "markdown",
      "metadata": {
        "id": "iNlhnS74R8s0"
      },
      "source": [
        "### Load Mnist dataset into jupyter notebook, check its keys."
      ]
    },
    {
      "cell_type": "code",
      "execution_count": 1,
      "metadata": {
        "id": "LGyCjmmIR8s0"
      },
      "outputs": [],
      "source": [
        "from sklearn.datasets import fetch_openml\n",
        "mnist = fetch_openml('mnist_784',version = 1)"
      ]
    },
    {
      "cell_type": "code",
      "execution_count": 2,
      "metadata": {
        "colab": {
          "base_uri": "https://localhost:8080/"
        },
        "id": "YV2D2saGR8s0",
        "outputId": "2fc80a00-55dc-43b4-d3d1-a29b00d58838"
      },
      "outputs": [
        {
          "output_type": "execute_result",
          "data": {
            "text/plain": [
              "dict_keys(['data', 'target', 'frame', 'categories', 'feature_names', 'target_names', 'DESCR', 'details', 'url'])"
            ]
          },
          "metadata": {},
          "execution_count": 2
        }
      ],
      "source": [
        "mnist.keys()"
      ]
    },
    {
      "cell_type": "code",
      "execution_count": 3,
      "metadata": {
        "id": "OcstSVdZR8s1"
      },
      "outputs": [],
      "source": [
        "X,y = mnist['data'], mnist['target']"
      ]
    },
    {
      "cell_type": "code",
      "execution_count": 4,
      "metadata": {
        "colab": {
          "base_uri": "https://localhost:8080/"
        },
        "id": "4Y8c1IPHR8s1",
        "outputId": "d90054b4-616a-4794-8131-f74ca3fc353a"
      },
      "outputs": [
        {
          "output_type": "execute_result",
          "data": {
            "text/plain": [
              "(70000, 784)"
            ]
          },
          "metadata": {},
          "execution_count": 4
        }
      ],
      "source": [
        "X.shape # 70000 images, 784 features"
      ]
    },
    {
      "cell_type": "code",
      "execution_count": 5,
      "metadata": {
        "id": "Y6p1FHo-R8s1"
      },
      "outputs": [],
      "source": [
        "import numpy as np\n",
        "uni_feature, feature_counts = np.unique(X, return_counts = True)"
      ]
    },
    {
      "cell_type": "code",
      "execution_count": 6,
      "metadata": {
        "colab": {
          "base_uri": "https://localhost:8080/"
        },
        "id": "CUPvBjf2R8s1",
        "outputId": "fddb8911-b9d1-4abf-b6ad-0fa367cc74ce"
      },
      "outputs": [
        {
          "output_type": "execute_result",
          "data": {
            "text/plain": [
              "array([  0,   1,   2,   3,   4,   5,   6,   7,   8,   9,  10,  11,  12,\n",
              "        13,  14,  15,  16,  17,  18,  19,  20,  21,  22,  23,  24,  25,\n",
              "        26,  27,  28,  29,  30,  31,  32,  33,  34,  35,  36,  37,  38,\n",
              "        39,  40,  41,  42,  43,  44,  45,  46,  47,  48,  49,  50,  51,\n",
              "        52,  53,  54,  55,  56,  57,  58,  59,  60,  61,  62,  63,  64,\n",
              "        65,  66,  67,  68,  69,  70,  71,  72,  73,  74,  75,  76,  77,\n",
              "        78,  79,  80,  81,  82,  83,  84,  85,  86,  87,  88,  89,  90,\n",
              "        91,  92,  93,  94,  95,  96,  97,  98,  99, 100, 101, 102, 103,\n",
              "       104, 105, 106, 107, 108, 109, 110, 111, 112, 113, 114, 115, 116,\n",
              "       117, 118, 119, 120, 121, 122, 123, 124, 125, 126, 127, 128, 129,\n",
              "       130, 131, 132, 133, 134, 135, 136, 137, 138, 139, 140, 141, 142,\n",
              "       143, 144, 145, 146, 147, 148, 149, 150, 151, 152, 153, 154, 155,\n",
              "       156, 157, 158, 159, 160, 161, 162, 163, 164, 165, 166, 167, 168,\n",
              "       169, 170, 171, 172, 173, 174, 175, 176, 177, 178, 179, 180, 181,\n",
              "       182, 183, 184, 185, 186, 187, 188, 189, 190, 191, 192, 193, 194,\n",
              "       195, 196, 197, 198, 199, 200, 201, 202, 203, 204, 205, 206, 207,\n",
              "       208, 209, 210, 211, 212, 213, 214, 215, 216, 217, 218, 219, 220,\n",
              "       221, 222, 223, 224, 225, 226, 227, 228, 229, 230, 231, 232, 233,\n",
              "       234, 235, 236, 237, 238, 239, 240, 241, 242, 243, 244, 245, 246,\n",
              "       247, 248, 249, 250, 251, 252, 253, 254, 255])"
            ]
          },
          "metadata": {},
          "execution_count": 6
        }
      ],
      "source": [
        "uni_feature"
      ]
    },
    {
      "cell_type": "code",
      "execution_count": 7,
      "metadata": {
        "colab": {
          "base_uri": "https://localhost:8080/"
        },
        "id": "4HcHq6y7R8s2",
        "outputId": "b0b6c032-3fe7-412c-9e92-5f51a4578f01"
      },
      "outputs": [
        {
          "output_type": "execute_result",
          "data": {
            "text/plain": [
              "array([44374625,    26728,    39409,    42140,    44638,    45783,\n",
              "          43928,    45443,    35830,    44646,    41337,    41852,\n",
              "          35095,    46908,    31375,    33576,    33904,    32028,\n",
              "          31433,    40342,    35068,    41593,    31524,    26595,\n",
              "          30189,    34988,    28311,    27909,    29532,    42988,\n",
              "          26731,    30486,    33695,    18190,    23120,    24957,\n",
              "          25783,    28869,    30402,    21235,    23944,    31578,\n",
              "          25972,    24773,    22132,    24563,    20209,    28249,\n",
              "          23413,    20753,    28071,    29019,    16907,    22506,\n",
              "          21192,    21101,    27306,    36863,    16663,    21085,\n",
              "          21018,    21058,    23003,    27765,    54942,    18578,\n",
              "          20424,    18579,    19026,    19594,    22623,    21464,\n",
              "          20186,    22420,    16124,    18480,    20787,    15861,\n",
              "          20659,    21058,    18293,    19456,    24776,    17953,\n",
              "          31355,    29613,    29792,    14806,    18530,    20523,\n",
              "          14727,    20800,    21614,    20116,    19394,    19053,\n",
              "          20715,    16560,    19543,    20641,    17765,    16558,\n",
              "          25597,    17305,    19133,    17282,    21345,    19072,\n",
              "          20935,    21236,    18392,    18677,    21287,    23416,\n",
              "          28536,    17565,    22521,    17184,    19722,    18056,\n",
              "          19091,    20238,    19164,    20830,    16083,    19171,\n",
              "          19622,    19034,    88212,    19205,    20929,    22480,\n",
              "          21919,    17538,    18046,    19409,    18808,    20463,\n",
              "          20127,    22752,    20439,    31360,    21099,    18644,\n",
              "          21942,    21271,    18595,    19498,    19852,    19138,\n",
              "          19788,    25328,    20884,    18168,    20918,    21910,\n",
              "          21801,    17171,    19359,    18526,    21126,    20055,\n",
              "          21017,    21475,    17944,    17943,    17294,    16741,\n",
              "          29240,    29807,    34442,    19596,    21628,    22736,\n",
              "          19670,    19245,    20121,    19620,    19718,    21100,\n",
              "          20002,    19994,    18590,    23499,    20988,    20313,\n",
              "          19909,    19432,    20071,    21768,    23669,    61004,\n",
              "          23244,    21971,    21860,    23267,    26425,    26885,\n",
              "          30216,    21939,    20984,    20583,    22845,    33993,\n",
              "          21360,    22556,    25576,    24434,    21073,    22860,\n",
              "          25532,    26363,    26948,    29633,    30041,    28148,\n",
              "          25447,    29002,    25542,    22824,    23980,    28755,\n",
              "          30039,    30623,    28083,    31781,    40967,    29575,\n",
              "          34247,    27480,    31609,    34501,    35334,    43190,\n",
              "          38885,    33936,    36793,    34582,    31369,    31951,\n",
              "          38903,    41426,    36493,    43237,    43373,    41168,\n",
              "          39400,    44170,    41085,    45893,    66245,   131401,\n",
              "         772500,  1775038,   937774,   371117])"
            ]
          },
          "metadata": {},
          "execution_count": 7
        }
      ],
      "source": [
        "feature_counts"
      ]
    },
    {
      "cell_type": "code",
      "execution_count": 8,
      "metadata": {
        "colab": {
          "base_uri": "https://localhost:8080/",
          "height": 463
        },
        "id": "S7QMGTe3R8s2",
        "outputId": "18622d39-96e8-47f8-a7ec-ce288dad638a"
      },
      "outputs": [
        {
          "output_type": "execute_result",
          "data": {
            "text/plain": [
              "<BarContainer object of 256 artists>"
            ]
          },
          "metadata": {},
          "execution_count": 8
        },
        {
          "output_type": "display_data",
          "data": {
            "text/plain": [
              "<Figure size 640x480 with 1 Axes>"
            ],
            "image/png": "[encoded data removed]"
          },
          "metadata": {}
        }
      ],
      "source": [
        "import matplotlib.pyplot as plt\n",
        "plt.bar(uni_feature, feature_counts)"
      ]
    },
    {
      "cell_type": "code",
      "execution_count": 9,
      "metadata": {
        "colab": {
          "base_uri": "https://localhost:8080/",
          "height": 490
        },
        "id": "r0Xx5rYxR8s2",
        "outputId": "53281a8f-dc5e-46d7-a626-85a2e420217e"
      },
      "outputs": [
        {
          "output_type": "execute_result",
          "data": {
            "text/plain": [
              "Text(0.5, 1.0, 'Features in MNIST 784 dataset')"
            ]
          },
          "metadata": {},
          "execution_count": 9
        },
        {
          "output_type": "display_data",
          "data": {
            "text/plain": [
              "<Figure size 640x480 with 1 Axes>"
            ],
            "image/png": "[encoded data removed]"
          },
          "metadata": {}
        }
      ],
      "source": [
        "plt.bar(uni_feature[1:250], feature_counts[1:250])\n",
        "#plt.xticks(uni_feature)\n",
        "plt.xlabel(\"Features: value at 1 to 249\")\n",
        "plt.ylabel(\"Quantity\")\n",
        "plt.title(\"Features in MNIST 784 dataset\")"
      ]
    },
    {
      "cell_type": "markdown",
      "metadata": {
        "id": "7qJqC7lhR8s2"
      },
      "source": [
        "Check labels"
      ]
    },
    {
      "cell_type": "code",
      "execution_count": 11,
      "metadata": {
        "id": "7qjhovo8R8s2"
      },
      "outputs": [],
      "source": [
        "import numpy as np\n",
        "\n",
        "unique, counts = np.unique(y, return_counts=True)"
      ]
    },
    {
      "cell_type": "code",
      "execution_count": 12,
      "metadata": {
        "colab": {
          "base_uri": "https://localhost:8080/"
        },
        "id": "cQTBKPpsR8s2",
        "outputId": "ef6b563a-dd5e-4840-db7b-64519e507c75"
      },
      "outputs": [
        {
          "output_type": "execute_result",
          "data": {
            "text/plain": [
              "array(['0', '1', '2', '3', '4', '5', '6', '7', '8', '9'], dtype=object)"
            ]
          },
          "metadata": {},
          "execution_count": 12
        }
      ],
      "source": [
        "unique"
      ]
    },
    {
      "cell_type": "code",
      "execution_count": 13,
      "metadata": {
        "colab": {
          "base_uri": "https://localhost:8080/"
        },
        "id": "i8vcNzOoR8s2",
        "outputId": "56023d6d-cd0c-43bc-c591-793dcb9ba147"
      },
      "outputs": [
        {
          "output_type": "execute_result",
          "data": {
            "text/plain": [
              "array([6903, 7877, 6990, 7141, 6824, 6313, 6876, 7293, 6825, 6958])"
            ]
          },
          "metadata": {},
          "execution_count": 13
        }
      ],
      "source": [
        "counts"
      ]
    },
    {
      "cell_type": "code",
      "execution_count": 14,
      "metadata": {
        "colab": {
          "base_uri": "https://localhost:8080/",
          "height": 490
        },
        "id": "Gj1_Nk-JR8s2",
        "outputId": "98387b3a-9fc0-4c3c-b1bf-d86a0dee4893"
      },
      "outputs": [
        {
          "output_type": "execute_result",
          "data": {
            "text/plain": [
              "Text(0.5, 1.0, 'Labels in MNIST 784 dataset')"
            ]
          },
          "metadata": {},
          "execution_count": 14
        },
        {
          "output_type": "display_data",
          "data": {
            "text/plain": [
              "<Figure size 640x480 with 1 Axes>"
            ],
            "image/png": "[encoded data removed]"
          },
          "metadata": {}
        }
      ],
      "source": [
        "plt.bar(unique, counts)\n",
        "plt.xlabel(\"Label\")\n",
        "plt.ylabel(\"Quantity\")\n",
        "plt.title(\"Labels in MNIST 784 dataset\")  # They are discrete type"
      ]
    },
    {
      "cell_type": "markdown",
      "metadata": {
        "id": "y_w-SALHR8s3"
      },
      "source": [
        "The first digit"
      ]
    },
    {
      "cell_type": "code",
      "execution_count": 15,
      "metadata": {
        "colab": {
          "base_uri": "https://localhost:8080/"
        },
        "id": "uc1obm2TR8s3",
        "outputId": "8cbea607-b27c-449a-99b7-fd3bdc2d64b3"
      },
      "outputs": [
        {
          "output_type": "execute_result",
          "data": {
            "text/plain": [
              "(784,)"
            ]
          },
          "metadata": {},
          "execution_count": 15
        }
      ],
      "source": [
        "some_digit = X.iloc[0]# a row\n",
        "some_digit.shape"
      ]
    },
    {
      "cell_type": "code",
      "execution_count": 16,
      "metadata": {
        "id": "SbattKlrR8s3"
      },
      "outputs": [],
      "source": [
        "import numpy as np\n",
        "import matplotlib.pyplot as plt\n",
        "# Assuming `some_digit` is a Series from your previous operations\n",
        "some_digit_np = some_digit.to_numpy()  # Convert Series to NumPy array\n",
        "some_digit_image = some_digit_np.reshape(28, 28)  # Now we can reshape it"
      ]
    },
    {
      "cell_type": "code",
      "execution_count": 17,
      "metadata": {
        "colab": {
          "base_uri": "https://localhost:8080/",
          "height": 406
        },
        "id": "1XBSMLRiR8s3",
        "outputId": "38c4eced-767a-4d95-80ea-6659898f359c"
      },
      "outputs": [
        {
          "output_type": "display_data",
          "data": {
            "text/plain": [
              "<Figure size 640x480 with 1 Axes>"
            ],
            "image/png": "[encoded data removed]"
          },
          "metadata": {}
        }
      ],
      "source": [
        "# Now we can plot it\n",
        "plt.imshow(some_digit_image, cmap='binary')\n",
        "plt.axis(\"off\")\n",
        "plt.show()"
      ]
    },
    {
      "cell_type": "markdown",
      "metadata": {
        "id": "PkOYp8B4R8s3"
      },
      "source": [
        "Check feature values of one digit image"
      ]
    },
    {
      "cell_type": "code",
      "execution_count": 18,
      "metadata": {
        "id": "dTGtGTHpR8s3"
      },
      "outputs": [],
      "source": [
        "uni_f_digit, f_counts_digit = np.unique(some_digit, return_counts = True)"
      ]
    },
    {
      "cell_type": "code",
      "execution_count": 19,
      "metadata": {
        "colab": {
          "base_uri": "https://localhost:8080/"
        },
        "id": "DjcRJeTYR8s3",
        "outputId": "9a2fec2f-fd3b-47de-ece5-70a4489a3df5"
      },
      "outputs": [
        {
          "output_type": "execute_result",
          "data": {
            "text/plain": [
              "array([  0,   1,   2,   3,   9,  11,  14,  16,  18,  23,  24,  25,  26,\n",
              "        27,  30,  35,  36,  39,  43,  45,  46,  49,  55,  56,  64,  66,\n",
              "        70,  78,  80,  81,  82,  90,  93,  94, 107, 108, 114, 119, 126,\n",
              "       127, 130, 132, 133, 135, 136, 139, 148, 150, 154, 156, 160, 166,\n",
              "       170, 171, 172, 175, 182, 183, 186, 187, 190, 195, 198, 201, 205,\n",
              "       207, 212, 213, 219, 221, 225, 226, 229, 238, 240, 241, 242, 244,\n",
              "       247, 249, 250, 251, 252, 253, 255])"
            ]
          },
          "metadata": {},
          "execution_count": 19
        }
      ],
      "source": [
        "uni_f_digit"
      ]
    },
    {
      "cell_type": "code",
      "execution_count": 20,
      "metadata": {
        "colab": {
          "base_uri": "https://localhost:8080/"
        },
        "id": "6EUQetSXR8s3",
        "outputId": "f4733978-293d-4531-c860-03a6691e0b8b"
      },
      "outputs": [
        {
          "output_type": "execute_result",
          "data": {
            "text/plain": [
              "array([618,   2,   3,   1,   1,   3,   1,   2,   5,   1,   1,   1,   1,\n",
              "         1,   1,   1,   1,   2,   1,   1,   1,   1,   1,   1,   2,   1,\n",
              "         1,   1,   2,   2,   2,   1,   2,   1,   1,   1,   1,   1,   1,\n",
              "         1,   1,   1,   1,   1,   2,   1,   1,   1,   3,   1,   1,   1,\n",
              "         1,   1,   2,   1,   2,   1,   1,   1,   2,   2,   2,   1,   1,\n",
              "         1,   1,   1,   2,   1,   2,   1,   1,   1,   1,   2,   1,   1,\n",
              "         2,   2,   1,   1,   1,  54,   1])"
            ]
          },
          "metadata": {},
          "execution_count": 20
        }
      ],
      "source": [
        "f_counts_digit"
      ]
    },
    {
      "cell_type": "code",
      "execution_count": 21,
      "metadata": {
        "colab": {
          "base_uri": "https://localhost:8080/",
          "height": 490
        },
        "id": "ijmK0Dj6R8s3",
        "outputId": "3938b541-881d-467c-b797-707f0ccfbe32"
      },
      "outputs": [
        {
          "output_type": "execute_result",
          "data": {
            "text/plain": [
              "Text(0.5, 1.0, 'Features in one digit image')"
            ]
          },
          "metadata": {},
          "execution_count": 21
        },
        {
          "output_type": "display_data",
          "data": {
            "text/plain": [
              "<Figure size 640x480 with 1 Axes>"
            ],
            "image/png": "[encoded data removed]"
          },
          "metadata": {}
        }
      ],
      "source": [
        "plt.bar(uni_f_digit[1:], f_counts_digit[1:])\n",
        "plt.xlabel(\"Features: 1-255\")\n",
        "plt.ylabel(\"Quantity\")\n",
        "plt.title(\"Features in one digit image\")"
      ]
    },
    {
      "cell_type": "markdown",
      "metadata": {
        "id": "UWeFwDhCR8s3"
      },
      "source": [
        "# PCA with Numpy"
      ]
    },
    {
      "cell_type": "markdown",
      "metadata": {
        "id": "6uzQlBJKR8s3"
      },
      "source": [
        "### Principal Components"
      ]
    },
    {
      "cell_type": "code",
      "execution_count": 22,
      "metadata": {
        "id": "TnEYim4jR8s3"
      },
      "outputs": [],
      "source": [
        "X_centered = X - X.mean(axis = 0) # Centering\n",
        "# ref: Why centering https://stats.stackexchange.com/questions/189822/how-does-centering-make-a-difference-in-pca-for-svd-and-eigen-decomposition"
      ]
    },
    {
      "cell_type": "markdown",
      "source": [
        "### SVD (Singular Value Decomposition)"
      ],
      "metadata": {
        "id": "9-c4RjoRdRmn"
      }
    },
    {
      "cell_type": "code",
      "execution_count": null,
      "metadata": {
        "id": "LWSuI4xlR8s4"
      },
      "outputs": [],
      "source": [
        "U, s, Vt = np.linalg.svd(X_centered)\n",
        "#The first two principal components\n",
        "c1 = Vt.T[:, 0]\n",
        "c2 = Vt.T[:, 1]"
      ]
    },
    {
      "cell_type": "markdown",
      "metadata": {
        "id": "Aok8bXPqR8s4"
      },
      "source": [
        "### Projecting Down to 2 Dimensions"
      ]
    },
    {
      "cell_type": "code",
      "execution_count": null,
      "metadata": {
        "id": "C2DJ1PxbR8s4"
      },
      "outputs": [],
      "source": [
        "# projects data onto the plane defined by the first two pricipal components\n",
        "W2 = Vt.Vt.T[:,:2]\n",
        "X2D = X_centered.dot(W2)"
      ]
    },
    {
      "cell_type": "markdown",
      "metadata": {
        "id": "o_nhkF-xR8s4"
      },
      "source": [
        "# PCA with Scikit-Learn"
      ]
    },
    {
      "cell_type": "markdown",
      "metadata": {
        "id": "5gxEN2FOR8s4"
      },
      "source": [
        "## Projecting Down to 2 Dimensions"
      ]
    },
    {
      "cell_type": "code",
      "execution_count": null,
      "metadata": {
        "id": "7lalia9dR8s4"
      },
      "outputs": [],
      "source": [
        "from sklearn.decomposition import PCA\n",
        "\n",
        "pca_2 = PCA(n_components = 2)\n",
        "X2D = pca_2.fit_transform(X)"
      ]
    },
    {
      "cell_type": "code",
      "execution_count": null,
      "metadata": {
        "id": "YBCnNK3oR8s4",
        "outputId": "29d2eade-a5f7-4164-9f67-73bf7c0099b6"
      },
      "outputs": [
        {
          "data": {
            "text/plain": [
              "array([0.09746116, 0.07155445])"
            ]
          },
          "execution_count": 24,
          "metadata": {},
          "output_type": "execute_result"
        }
      ],
      "source": [
        "pca_2.explained_variance_ratio_"
      ]
    },
    {
      "cell_type": "markdown",
      "metadata": {
        "id": "eO2lS1ZzR8s4"
      },
      "source": [
        "### Set the ratio of variance to perserve"
      ]
    },
    {
      "cell_type": "code",
      "execution_count": null,
      "metadata": {
        "id": "Bu76cUbjR8s4"
      },
      "outputs": [],
      "source": [
        "pca_95var = PCA(n_components = 0.95)\n",
        "X_reduced_95var = pca_95var.fit_transform(X)"
      ]
    },
    {
      "cell_type": "markdown",
      "metadata": {
        "id": "LtrWCCnRR8s4"
      },
      "source": [
        "## PCA for Compression"
      ]
    },
    {
      "cell_type": "markdown",
      "metadata": {
        "id": "cWYbaH2ZR8s5"
      },
      "source": [
        "Compress the MNIST dataset from 784 diemnsions down to 154 dimensions."
      ]
    },
    {
      "cell_type": "code",
      "execution_count": null,
      "metadata": {
        "id": "7eKjK6z1R8tJ"
      },
      "outputs": [],
      "source": [
        "from sklearn.decomposition import PCA\n",
        "pca = PCA(n_components = 154)"
      ]
    },
    {
      "cell_type": "code",
      "execution_count": null,
      "metadata": {
        "id": "7BuXZxv5R8tJ"
      },
      "outputs": [],
      "source": [
        "X_reduced = pca.fit_transform(X)"
      ]
    },
    {
      "cell_type": "markdown",
      "metadata": {
        "id": "Ed1BHftZR8tJ"
      },
      "source": [
        "Decompress it back to 784 dimensions:"
      ]
    },
    {
      "cell_type": "code",
      "execution_count": null,
      "metadata": {
        "id": "elgbV0wWR8tJ"
      },
      "outputs": [],
      "source": [
        "X_recovered = pca.inverse_transform(X_reduced)"
      ]
    },
    {
      "cell_type": "markdown",
      "metadata": {
        "id": "2XFdo6YsR8tJ"
      },
      "source": [
        "Compare them:"
      ]
    },
    {
      "cell_type": "code",
      "execution_count": null,
      "metadata": {
        "id": "Ri3Or_dAR8tJ"
      },
      "outputs": [],
      "source": [
        "num_loc = 2\n",
        "original_digit = X[num_loc].reshape(28,28)\n",
        "recovered_digit = X_recovered[num_loc].reshape(28,28)"
      ]
    },
    {
      "cell_type": "code",
      "execution_count": null,
      "metadata": {
        "id": "hCkVP2dSR8tJ",
        "outputId": "9303f67a-392a-4019-94bd-35ae85ef9864"
      },
      "outputs": [
        {
          "data": {
            "text/plain": [
              "(154,)"
            ]
          },
          "execution_count": 30,
          "metadata": {},
          "output_type": "execute_result"
        }
      ],
      "source": [
        "X_reduced[num_loc].shape"
      ]
    },
    {
      "cell_type": "code",
      "execution_count": null,
      "metadata": {
        "id": "Jof9FWuCR8tJ",
        "outputId": "296330a6-140e-4edd-9dfa-f4363d028f51"
      },
      "outputs": [
        {
          "data": {
            "text/plain": [
              "Text(0.5, 1.0, 'Recovered digit')"
            ]
          },
          "execution_count": 31,
          "metadata": {},
          "output_type": "execute_result"
        },
        {
          "data": {
            "image/png": "[encoded data removed]",
            "text/plain": [
              "<Figure size 432x288 with 2 Axes>"
            ]
          },
          "metadata": {
            "needs_background": "light"
          },
          "output_type": "display_data"
        }
      ],
      "source": [
        "# ref : https://matplotlib.org/stable/gallery/subplots_axes_and_figures/subplots_demo.html\n",
        "\n",
        "fig, (ax1, ax2) = plt.subplots(1, 2)\n",
        "\n",
        "ax1.imshow(original_digit, cmap = 'binary')\n",
        "ax1.set_title('Original digit')\n",
        "\n",
        "ax2.imshow(recovered_digit, cmap = 'binary')\n",
        "ax2.set_title('Recovered digit')\n"
      ]
    },
    {
      "cell_type": "code",
      "execution_count": null,
      "metadata": {
        "id": "4cWhvZ38R8tJ"
      },
      "outputs": [],
      "source": []
    }
  ],
  "metadata": {
    "kernelspec": {
      "display_name": "Python 3",
      "language": "python",
      "name": "python3"
    },
    "language_info": {
      "codemirror_mode": {
        "name": "ipython",
        "version": 3
      },
      "file_extension": ".py",
      "mimetype": "text/x-python",
      "name": "python",
      "nbconvert_exporter": "python",
      "pygments_lexer": "ipython3",
      "version": "3.8.5"
    },
    "colab": {
      "provenance": [],
      "toc_visible": true
    }
  },
  "nbformat": 4,
  "nbformat_minor": 0
}